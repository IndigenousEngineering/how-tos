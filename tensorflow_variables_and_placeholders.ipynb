{
 "cells": [
  {
   "cell_type": "markdown",
   "metadata": {},
   "source": [
    "# variables and placeholders: tensorflow's go-to objects"
   ]
  },
  {
   "cell_type": "markdown",
   "metadata": {},
   "source": [
    "tensorflow has two main opbject types that we'll use over and over again in creating artificial neural nets (ANNs): variables and placeholders."
   ]
  },
  {
   "cell_type": "markdown",
   "metadata": {},
   "source": [
    "## variables\n",
    "\n",
    "what is backpropogation and why does it matter here?\n",
    "\n",
    "backpropogation is the process by which ANNs learn to do better in supervised tasks. weights and biases are initialized to some value (random or pre-trained, depending on the task) and are later adjusted as the model works its way throught the data, such that when all is said and done, (hopefuuly!) these parameters will be tuned optimally for the model to work its best.\n",
    "\n",
    "these are the parameters that tensorflow initializes as variables--because they have to exist, and they have to change, and variables can do both of those things."
   ]
  },
  {
   "cell_type": "markdown",
   "metadata": {},
   "source": [
    "## placeholders\n",
    "\n",
    "this is where the data for model training flows through.\n",
    "\n",
    "because tensorflow builds graphs for each calculation, it needs somewhere to put the data, declared in advance. this is what placeholders do--they let tensorflow know that there is going to be data here soon, so that it can go ahead and prepare a pathway to feed this into the model.\n",
    "\n",
    "tensorflow needs some additional information with eahc placeholder in order to make it work: an expected data type (like tf.float64, for example), and an optional shape argument."
   ]
  },
  {
   "cell_type": "markdown",
   "metadata": {},
   "source": [
    "### first things first: syntax"
   ]
  },
  {
   "cell_type": "code",
   "execution_count": 3,
   "metadata": {},
   "outputs": [],
   "source": [
    "import tensorflow as tf"
   ]
  },
  {
   "cell_type": "code",
   "execution_count": 5,
   "metadata": {},
   "outputs": [],
   "source": [
    "sess = tf.InteractiveSession()"
   ]
  },
  {
   "cell_type": "code",
   "execution_count": null,
   "metadata": {},
   "outputs": [],
   "source": []
  }
 ],
 "metadata": {
  "kernelspec": {
   "display_name": "Python 3",
   "language": "python",
   "name": "python3"
  },
  "language_info": {
   "codemirror_mode": {
    "name": "ipython",
    "version": 3
   },
   "file_extension": ".py",
   "mimetype": "text/x-python",
   "name": "python",
   "nbconvert_exporter": "python",
   "pygments_lexer": "ipython3",
   "version": "3.6.5"
  }
 },
 "nbformat": 4,
 "nbformat_minor": 2
}

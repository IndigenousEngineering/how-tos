{
 "cells": [
  {
   "cell_type": "code",
   "execution_count": 2,
   "metadata": {},
   "outputs": [],
   "source": [
    "import tensorflow as tf"
   ]
  },
  {
   "cell_type": "markdown",
   "metadata": {},
   "source": [
    "# tensors\n",
    "### tensors are n-dimensional arrays"
   ]
  },
  {
   "cell_type": "code",
   "execution_count": 23,
   "metadata": {},
   "outputs": [],
   "source": [
    "hello_const = tf.constant('hello ')"
   ]
  },
  {
   "cell_type": "code",
   "execution_count": 24,
   "metadata": {},
   "outputs": [
    {
     "data": {
      "text/plain": [
       "tensorflow.python.framework.ops.Tensor"
      ]
     },
     "execution_count": 24,
     "metadata": {},
     "output_type": "execute_result"
    }
   ],
   "source": [
    "# shows that it's a tensor type\n",
    "\n",
    "type(hello_const)"
   ]
  },
  {
   "cell_type": "code",
   "execution_count": 32,
   "metadata": {},
   "outputs": [
    {
     "data": {
      "text/plain": [
       "tensorflow.python.framework.ops.Tensor"
      ]
     },
     "execution_count": 32,
     "metadata": {},
     "output_type": "execute_result"
    }
   ],
   "source": [
    "world_const = tf.constant('world!')\n",
    "\n",
    "type(world_const)"
   ]
  },
  {
   "cell_type": "markdown",
   "metadata": {},
   "source": [
    "#### sessions"
   ]
  },
  {
   "cell_type": "markdown",
   "metadata": {},
   "source": [
    "tensorflow won't just run operations. first you have to initialize a session, then set up the operation, then run. observe:"
   ]
  },
  {
   "cell_type": "code",
   "execution_count": 26,
   "metadata": {},
   "outputs": [
    {
     "data": {
      "text/plain": [
       "<tf.Tensor 'add_6:0' shape=() dtype=string>"
      ]
     },
     "execution_count": 26,
     "metadata": {},
     "output_type": "execute_result"
    }
   ],
   "source": [
    "# can't just add them together to output a result:\n",
    "\n",
    "hello_world = hello_const + world_const\n",
    "\n",
    "# instead of the result, this will give information on the request\n",
    "hello_world"
   ]
  },
  {
   "cell_type": "code",
   "execution_count": 27,
   "metadata": {},
   "outputs": [
    {
     "data": {
      "text/plain": [
       "tensorflow.python.framework.ops.Tensor"
      ]
     },
     "execution_count": 27,
     "metadata": {},
     "output_type": "execute_result"
    }
   ],
   "source": [
    "# what type is hello_world? a tensor:\n",
    "\n",
    "type(hello_world)"
   ]
  },
  {
   "cell_type": "markdown",
   "metadata": {},
   "source": [
    "now the right way: run it in a session using 'with' keyword"
   ]
  },
  {
   "cell_type": "code",
   "execution_count": 30,
   "metadata": {},
   "outputs": [],
   "source": [
    "# set up the session\n",
    "# then run it\n",
    "\n",
    "with tf.Session() as sess:\n",
    "    hello_world = sess.run(hello_const + world_const)"
   ]
  },
  {
   "cell_type": "code",
   "execution_count": 33,
   "metadata": {},
   "outputs": [
    {
     "data": {
      "text/plain": [
       "b'hello world!'"
      ]
     },
     "execution_count": 33,
     "metadata": {},
     "output_type": "execute_result"
    }
   ],
   "source": [
    "# get the result\n",
    "\n",
    "hello_world"
   ]
  },
  {
   "cell_type": "markdown",
   "metadata": {},
   "source": [
    "the session-run-rule also applies to integer constants:"
   ]
  },
  {
   "cell_type": "code",
   "execution_count": 36,
   "metadata": {},
   "outputs": [
    {
     "name": "stdout",
     "output_type": "stream",
     "text": [
      "<class 'tensorflow.python.framework.ops.Tensor'>\n",
      "<class 'tensorflow.python.framework.ops.Tensor'>\n"
     ]
    }
   ],
   "source": [
    "# these are tensors, just like above\n",
    "\n",
    "const_1 = tf.constant(1)\n",
    "const_2 = tf.constant(2)\n",
    "\n",
    "# see?\n",
    "print(type(const_1))\n",
    "print(type(const_2))"
   ]
  },
  {
   "cell_type": "code",
   "execution_count": 38,
   "metadata": {},
   "outputs": [
    {
     "data": {
      "text/plain": [
       "<tf.Tensor 'add_10:0' shape=() dtype=int32>"
      ]
     },
     "execution_count": 38,
     "metadata": {},
     "output_type": "execute_result"
    }
   ],
   "source": [
    "const_1 + const_2"
   ]
  },
  {
   "cell_type": "code",
   "execution_count": 39,
   "metadata": {},
   "outputs": [
    {
     "data": {
      "text/plain": [
       "<tf.Tensor 'add_11:0' shape=() dtype=int32>"
      ]
     },
     "execution_count": 39,
     "metadata": {},
     "output_type": "execute_result"
    }
   ],
   "source": [
    "add_result = const_1 + const_2\n",
    "\n",
    "add_result"
   ]
  },
  {
   "cell_type": "code",
   "execution_count": 41,
   "metadata": {},
   "outputs": [],
   "source": [
    "# set up a session, run the computation\n",
    "\n",
    "with tf.Session() as sess:\n",
    "    sess_add = sess.run(add_result)"
   ]
  },
  {
   "cell_type": "code",
   "execution_count": 44,
   "metadata": {},
   "outputs": [
    {
     "data": {
      "text/plain": [
       "3"
      ]
     },
     "execution_count": 44,
     "metadata": {},
     "output_type": "execute_result"
    }
   ],
   "source": [
    "# it works!\n",
    "\n",
    "sess_add"
   ]
  },
  {
   "cell_type": "markdown",
   "metadata": {},
   "source": [
    "#### other operations"
   ]
  },
  {
   "cell_type": "markdown",
   "metadata": {},
   "source": [
    "let's create and run some matrices using this tensorflow session:"
   ]
  },
  {
   "cell_type": "code",
   "execution_count": 47,
   "metadata": {},
   "outputs": [],
   "source": [
    "# tensorflow has a number of methods to create matrices\n",
    "# as always shift + tab to see options\n",
    "\n",
    "# arguments here: dimensions (5x5), fill number (10s)\n",
    "matrix_10s = tf.fill((5,5),10)\n",
    "\n",
    "# similar to numpy zeros(), pass dimensions in as a tuple\n",
    "matrix_0s = tf.zeros((5,5))\n",
    "\n",
    "# similar to numpy ones(), pass dimensions in as a tuple\n",
    "matrix_1s = tf.ones((5,5))\n",
    "\n",
    "# draws from random normal distribution\n",
    "# specify dimensions as tuple, mean & stddev (values here are defaults, for example purposes)\n",
    "matrix_rand_nrml = tf.random_normal((5,5), mean=0, stddev=1.0)\n",
    "\n",
    "# draws from random uniform distribution, specify min value & max value\n",
    "matrix_rand_uni = tf.random_uniform((5,5), minval=0, maxval=1)\n",
    "\n",
    "# although values have been assigned (ie nodes designated)\n",
    "# executing this window won't do anything visible"
   ]
  },
  {
   "cell_type": "code",
   "execution_count": 49,
   "metadata": {},
   "outputs": [
    {
     "name": "stdout",
     "output_type": "stream",
     "text": [
      "Tensor(\"Fill_2:0\", shape=(5, 5), dtype=int32) Tensor(\"zeros_1:0\", shape=(5, 5), dtype=float32) Tensor(\"ones_1:0\", shape=(5, 5), dtype=float32) Tensor(\"random_normal_1:0\", shape=(5, 5), dtype=float32) Tensor(\"random_uniform_1:0\", shape=(5, 5), dtype=float32)\n"
     ]
    }
   ],
   "source": [
    "# again, this only displays types--not results\n",
    "# these are tensors of shape 5x5\n",
    "\n",
    "print(matrix_10s, matrix_0s, matrix_1s, matrix_rand_nrml, matrix_rand_uni)"
   ]
  },
  {
   "cell_type": "markdown",
   "metadata": {},
   "source": [
    "now let's run these operations (in a session) to actually create these matrices:"
   ]
  },
  {
   "cell_type": "code",
   "execution_count": 53,
   "metadata": {},
   "outputs": [
    {
     "name": "stdout",
     "output_type": "stream",
     "text": [
      "[[10 10 10 10 10]\n",
      " [10 10 10 10 10]\n",
      " [10 10 10 10 10]\n",
      " [10 10 10 10 10]\n",
      " [10 10 10 10 10]] \n",
      "\n",
      "[[0. 0. 0. 0. 0.]\n",
      " [0. 0. 0. 0. 0.]\n",
      " [0. 0. 0. 0. 0.]\n",
      " [0. 0. 0. 0. 0.]\n",
      " [0. 0. 0. 0. 0.]] \n",
      "\n",
      "[[1. 1. 1. 1. 1.]\n",
      " [1. 1. 1. 1. 1.]\n",
      " [1. 1. 1. 1. 1.]\n",
      " [1. 1. 1. 1. 1.]\n",
      " [1. 1. 1. 1. 1.]] \n",
      "\n",
      "[[-1.1376288  -0.8223175  -0.7536955  -0.5834289  -0.73217523]\n",
      " [ 0.49167112  0.04779798 -0.16006713  0.5670915  -0.69069713]\n",
      " [-1.437848    2.0215385   1.5232288   0.4442079  -1.5998803 ]\n",
      " [ 0.09378536  0.15062259  0.8032139   0.59091103  2.928433  ]\n",
      " [-1.1760981   1.2564436   0.69118     0.75585854 -2.6854546 ]] \n",
      "\n",
      "[[0.385033   0.41825306 0.08613026 0.40889204 0.17649806]\n",
      " [0.02539563 0.9244497  0.54020834 0.33388996 0.31073844]\n",
      " [0.26666188 0.25108135 0.07042992 0.6984509  0.3433448 ]\n",
      " [0.08534086 0.03742158 0.3902731  0.49277222 0.37603378]\n",
      " [0.2236427  0.24113894 0.29635704 0.6823164  0.35546303]] \n",
      "\n"
     ]
    }
   ],
   "source": [
    "matrices = [matrix_10s, matrix_0s, matrix_1s, matrix_rand_nrml, matrix_rand_uni]\n",
    "\n",
    "with tf.Session() as sess:\n",
    "    for matrix in matrices:\n",
    "        matrix = sess.run(matrix)\n",
    "        print(matrix, '\\n')"
   ]
  },
  {
   "cell_type": "code",
   "execution_count": null,
   "metadata": {},
   "outputs": [],
   "source": []
  }
 ],
 "metadata": {
  "kernelspec": {
   "display_name": "Python 3",
   "language": "python",
   "name": "python3"
  },
  "language_info": {
   "codemirror_mode": {
    "name": "ipython",
    "version": 3
   },
   "file_extension": ".py",
   "mimetype": "text/x-python",
   "name": "python",
   "nbconvert_exporter": "python",
   "pygments_lexer": "ipython3",
   "version": "3.6.5"
  }
 },
 "nbformat": 4,
 "nbformat_minor": 2
}

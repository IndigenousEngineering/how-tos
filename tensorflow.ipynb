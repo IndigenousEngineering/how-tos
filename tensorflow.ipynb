{
 "cells": [
  {
   "cell_type": "code",
   "execution_count": 2,
   "metadata": {},
   "outputs": [],
   "source": [
    "import tensorflow as tf"
   ]
  },
  {
   "cell_type": "markdown",
   "metadata": {},
   "source": [
    "# tensors\n",
    "### tensors are n-dimensional arrays"
   ]
  },
  {
   "cell_type": "code",
   "execution_count": 23,
   "metadata": {},
   "outputs": [],
   "source": [
    "hello_const = tf.constant('hello ')"
   ]
  },
  {
   "cell_type": "code",
   "execution_count": 24,
   "metadata": {},
   "outputs": [
    {
     "data": {
      "text/plain": [
       "tensorflow.python.framework.ops.Tensor"
      ]
     },
     "execution_count": 24,
     "metadata": {},
     "output_type": "execute_result"
    }
   ],
   "source": [
    "# shows that it's a tensor type\n",
    "\n",
    "type(hello_const)"
   ]
  },
  {
   "cell_type": "code",
   "execution_count": 32,
   "metadata": {},
   "outputs": [
    {
     "data": {
      "text/plain": [
       "tensorflow.python.framework.ops.Tensor"
      ]
     },
     "execution_count": 32,
     "metadata": {},
     "output_type": "execute_result"
    }
   ],
   "source": [
    "world_const = tf.constant('world!')\n",
    "\n",
    "type(world_const)"
   ]
  },
  {
   "cell_type": "markdown",
   "metadata": {},
   "source": [
    "### sessions"
   ]
  },
  {
   "cell_type": "markdown",
   "metadata": {},
   "source": [
    "tensorflow won't just run operations. first you have to initialize a session, then set up the operation, then run. observe:"
   ]
  },
  {
   "cell_type": "code",
   "execution_count": 26,
   "metadata": {},
   "outputs": [
    {
     "data": {
      "text/plain": [
       "<tf.Tensor 'add_6:0' shape=() dtype=string>"
      ]
     },
     "execution_count": 26,
     "metadata": {},
     "output_type": "execute_result"
    }
   ],
   "source": [
    "# can't just add them together to output a result:\n",
    "\n",
    "hello_world = hello_const + world_const\n",
    "\n",
    "# instead of the result, this will give information on the request\n",
    "hello_world"
   ]
  },
  {
   "cell_type": "code",
   "execution_count": 27,
   "metadata": {},
   "outputs": [
    {
     "data": {
      "text/plain": [
       "tensorflow.python.framework.ops.Tensor"
      ]
     },
     "execution_count": 27,
     "metadata": {},
     "output_type": "execute_result"
    }
   ],
   "source": [
    "# what type is hello_world? a tensor:\n",
    "\n",
    "type(hello_world)"
   ]
  },
  {
   "cell_type": "markdown",
   "metadata": {},
   "source": [
    "now the right way: run it in a session using 'with' keyword"
   ]
  },
  {
   "cell_type": "code",
   "execution_count": 30,
   "metadata": {},
   "outputs": [],
   "source": [
    "# set up the session\n",
    "# then run it\n",
    "\n",
    "with tf.Session() as sess:\n",
    "    hello_world = sess.run(hello_const + world_const)"
   ]
  },
  {
   "cell_type": "code",
   "execution_count": 33,
   "metadata": {},
   "outputs": [
    {
     "data": {
      "text/plain": [
       "b'hello world!'"
      ]
     },
     "execution_count": 33,
     "metadata": {},
     "output_type": "execute_result"
    }
   ],
   "source": [
    "# get the result\n",
    "\n",
    "hello_world"
   ]
  },
  {
   "cell_type": "markdown",
   "metadata": {},
   "source": [
    "the session-run-rule also applies to integer constants:"
   ]
  },
  {
   "cell_type": "code",
   "execution_count": 36,
   "metadata": {},
   "outputs": [
    {
     "name": "stdout",
     "output_type": "stream",
     "text": [
      "<class 'tensorflow.python.framework.ops.Tensor'>\n",
      "<class 'tensorflow.python.framework.ops.Tensor'>\n"
     ]
    }
   ],
   "source": [
    "# these are tensors, just like above\n",
    "\n",
    "const_1 = tf.constant(1)\n",
    "const_2 = tf.constant(2)\n",
    "\n",
    "# see?\n",
    "print(type(const_1))\n",
    "print(type(const_2))"
   ]
  },
  {
   "cell_type": "code",
   "execution_count": 38,
   "metadata": {},
   "outputs": [
    {
     "data": {
      "text/plain": [
       "<tf.Tensor 'add_10:0' shape=() dtype=int32>"
      ]
     },
     "execution_count": 38,
     "metadata": {},
     "output_type": "execute_result"
    }
   ],
   "source": [
    "const_1 + const_2"
   ]
  },
  {
   "cell_type": "code",
   "execution_count": 39,
   "metadata": {},
   "outputs": [
    {
     "data": {
      "text/plain": [
       "<tf.Tensor 'add_11:0' shape=() dtype=int32>"
      ]
     },
     "execution_count": 39,
     "metadata": {},
     "output_type": "execute_result"
    }
   ],
   "source": [
    "add_result = const_1 + const_2\n",
    "\n",
    "add_result"
   ]
  },
  {
   "cell_type": "code",
   "execution_count": 41,
   "metadata": {},
   "outputs": [],
   "source": [
    "# set up a session, run the computation\n",
    "\n",
    "with tf.Session() as sess:\n",
    "    sess_add = sess.run(add_result)"
   ]
  },
  {
   "cell_type": "code",
   "execution_count": 44,
   "metadata": {},
   "outputs": [
    {
     "data": {
      "text/plain": [
       "3"
      ]
     },
     "execution_count": 44,
     "metadata": {},
     "output_type": "execute_result"
    }
   ],
   "source": [
    "# it works!\n",
    "\n",
    "sess_add"
   ]
  },
  {
   "cell_type": "markdown",
   "metadata": {},
   "source": [
    "#### other operations"
   ]
  },
  {
   "cell_type": "markdown",
   "metadata": {},
   "source": [
    "let's create and run some matrices using this tensorflow session:"
   ]
  },
  {
   "cell_type": "code",
   "execution_count": 47,
   "metadata": {},
   "outputs": [],
   "source": [
    "# tensorflow has a number of methods to create matrices\n",
    "# as always shift + tab to see options\n",
    "\n",
    "# arguments here: dimensions (5x5), fill number (10s)\n",
    "matrix_10s = tf.fill((5,5),10)\n",
    "\n",
    "# similar to numpy zeros(), pass dimensions in as a tuple\n",
    "matrix_0s = tf.zeros((5,5))\n",
    "\n",
    "# similar to numpy ones(), pass dimensions in as a tuple\n",
    "matrix_1s = tf.ones((5,5))\n",
    "\n",
    "# draws from random normal distribution\n",
    "# specify dimensions as tuple, mean & stddev (values here are defaults, for example purposes)\n",
    "matrix_rand_nrml = tf.random_normal((5,5), mean=0, stddev=1.0)\n",
    "\n",
    "# draws from random uniform distribution, specify min value & max value\n",
    "matrix_rand_uni = tf.random_uniform((5,5), minval=0, maxval=1)\n",
    "\n",
    "# although values have been assigned (ie nodes designated)\n",
    "# executing this window won't do anything visible"
   ]
  },
  {
   "cell_type": "code",
   "execution_count": 49,
   "metadata": {},
   "outputs": [
    {
     "name": "stdout",
     "output_type": "stream",
     "text": [
      "Tensor(\"Fill_2:0\", shape=(5, 5), dtype=int32) Tensor(\"zeros_1:0\", shape=(5, 5), dtype=float32) Tensor(\"ones_1:0\", shape=(5, 5), dtype=float32) Tensor(\"random_normal_1:0\", shape=(5, 5), dtype=float32) Tensor(\"random_uniform_1:0\", shape=(5, 5), dtype=float32)\n"
     ]
    }
   ],
   "source": [
    "# again, this only displays types--not results\n",
    "# these are tensors of shape 5x5\n",
    "\n",
    "print(matrix_10s, matrix_0s, matrix_1s, matrix_rand_nrml, matrix_rand_uni)"
   ]
  },
  {
   "cell_type": "markdown",
   "metadata": {},
   "source": [
    "now let's run these operations (in a session) to actually create these matrices:"
   ]
  },
  {
   "cell_type": "code",
   "execution_count": 58,
   "metadata": {},
   "outputs": [
    {
     "name": "stdout",
     "output_type": "stream",
     "text": [
      "[[10 10 10 10 10]\n",
      " [10 10 10 10 10]\n",
      " [10 10 10 10 10]\n",
      " [10 10 10 10 10]\n",
      " [10 10 10 10 10]] \n",
      "\n",
      "[[0. 0. 0. 0. 0.]\n",
      " [0. 0. 0. 0. 0.]\n",
      " [0. 0. 0. 0. 0.]\n",
      " [0. 0. 0. 0. 0.]\n",
      " [0. 0. 0. 0. 0.]] \n",
      "\n",
      "[[1. 1. 1. 1. 1.]\n",
      " [1. 1. 1. 1. 1.]\n",
      " [1. 1. 1. 1. 1.]\n",
      " [1. 1. 1. 1. 1.]\n",
      " [1. 1. 1. 1. 1.]] \n",
      "\n",
      "[[-1.4953055  -0.02974314  0.21285395  0.7526569  -0.19957118]\n",
      " [-2.0818648  -1.466015   -0.21336704 -0.47112435 -0.9460184 ]\n",
      " [ 1.422221   -1.3705472   0.24465986  1.1819116  -1.0084287 ]\n",
      " [ 0.7728608  -0.41386327 -0.19681427  0.5536151  -0.8584271 ]\n",
      " [-1.6168275  -1.1169975   0.76580685 -0.13801475 -0.03801071]] \n",
      "\n",
      "[[0.50554    0.3025005  0.35884655 0.6664016  0.30117214]\n",
      " [0.04736674 0.28699362 0.6510503  0.7422918  0.19725108]\n",
      " [0.5796169  0.8883376  0.8934052  0.04474401 0.24305785]\n",
      " [0.00198519 0.08063889 0.13913214 0.62264407 0.41798925]\n",
      " [0.111202   0.27060628 0.9137343  0.12376583 0.16896546]] \n",
      "\n"
     ]
    }
   ],
   "source": [
    "matrices = [matrix_10s, matrix_0s, matrix_1s, matrix_rand_nrml, matrix_rand_uni]\n",
    "\n",
    "with tf.Session() as sess:\n",
    "    for matrix in matrices:\n",
    "        matrix = sess.run(matrix)\n",
    "        print(matrix, '\\n')\n",
    "        \n",
    "# could also have used: print(sess.run(matrix), '\\n')\n",
    "# written this way for clarity"
   ]
  },
  {
   "cell_type": "markdown",
   "metadata": {},
   "source": [
    "### for notebooks only: interactive sessions\n",
    "\n",
    "(demo/exploratory only, not production!)"
   ]
  },
  {
   "cell_type": "code",
   "execution_count": 59,
   "metadata": {},
   "outputs": [],
   "source": [
    "# initialize an interactive session once:\n",
    "\n",
    "sess = tf.InteractiveSession()"
   ]
  },
  {
   "cell_type": "code",
   "execution_count": 61,
   "metadata": {},
   "outputs": [
    {
     "name": "stdout",
     "output_type": "stream",
     "text": [
      "[[10 10 10 10 10]\n",
      " [10 10 10 10 10]\n",
      " [10 10 10 10 10]\n",
      " [10 10 10 10 10]\n",
      " [10 10 10 10 10]] \n",
      "\n",
      "[[0. 0. 0. 0. 0.]\n",
      " [0. 0. 0. 0. 0.]\n",
      " [0. 0. 0. 0. 0.]\n",
      " [0. 0. 0. 0. 0.]\n",
      " [0. 0. 0. 0. 0.]] \n",
      "\n",
      "[[1. 1. 1. 1. 1.]\n",
      " [1. 1. 1. 1. 1.]\n",
      " [1. 1. 1. 1. 1.]\n",
      " [1. 1. 1. 1. 1.]\n",
      " [1. 1. 1. 1. 1.]] \n",
      "\n",
      "[[-0.20615102 -0.96041656  0.37703153  1.8141747  -0.51982003]\n",
      " [ 0.65142184 -0.24351689  1.1047015   0.35330847 -0.19969681]\n",
      " [-0.5648185  -0.43736267  2.3816383  -0.32069695  0.872908  ]\n",
      " [ 1.0472759  -0.57253015  0.7001373   0.542445   -0.86554223]\n",
      " [ 0.98741543 -1.0551876   0.3692475   0.12021515 -0.9450938 ]] \n",
      "\n",
      "[[0.891768   0.96788776 0.9724809  0.49903226 0.9838047 ]\n",
      " [0.35092092 0.05184782 0.31989026 0.8828318  0.706651  ]\n",
      " [0.44791424 0.5392283  0.05418563 0.2350533  0.8552202 ]\n",
      " [0.55169463 0.40098107 0.91126096 0.16424382 0.18115604]\n",
      " [0.07792854 0.41566658 0.22207046 0.9641938  0.89753616]] \n",
      "\n"
     ]
    }
   ],
   "source": [
    "# run the matrix operations again\n",
    "# this time don't need to set up a session\n",
    "\n",
    "for matrix in matrices:\n",
    "    print(matrix.eval(), '\\n')"
   ]
  },
  {
   "cell_type": "code",
   "execution_count": 62,
   "metadata": {},
   "outputs": [],
   "source": [
    "sess.close()"
   ]
  },
  {
   "cell_type": "code",
   "execution_count": null,
   "metadata": {},
   "outputs": [],
   "source": []
  }
 ],
 "metadata": {
  "kernelspec": {
   "display_name": "Python 3",
   "language": "python",
   "name": "python3"
  },
  "language_info": {
   "codemirror_mode": {
    "name": "ipython",
    "version": 3
   },
   "file_extension": ".py",
   "mimetype": "text/x-python",
   "name": "python",
   "nbconvert_exporter": "python",
   "pygments_lexer": "ipython3",
   "version": "3.6.5"
  }
 },
 "nbformat": 4,
 "nbformat_minor": 2
}

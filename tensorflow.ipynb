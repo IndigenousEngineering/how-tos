{
 "cells": [
  {
   "cell_type": "code",
   "execution_count": 2,
   "metadata": {},
   "outputs": [],
   "source": [
    "import tensorflow as tf"
   ]
  },
  {
   "cell_type": "markdown",
   "metadata": {},
   "source": [
    "# tensors\n",
    "### tensors are n-dimensional arrays"
   ]
  },
  {
   "cell_type": "code",
   "execution_count": 23,
   "metadata": {},
   "outputs": [],
   "source": [
    "hello_const = tf.constant('hello ')"
   ]
  },
  {
   "cell_type": "code",
   "execution_count": 24,
   "metadata": {},
   "outputs": [
    {
     "data": {
      "text/plain": [
       "tensorflow.python.framework.ops.Tensor"
      ]
     },
     "execution_count": 24,
     "metadata": {},
     "output_type": "execute_result"
    }
   ],
   "source": [
    "# shows that it's a tensor type\n",
    "\n",
    "type(hello_const)"
   ]
  },
  {
   "cell_type": "code",
   "execution_count": 32,
   "metadata": {},
   "outputs": [
    {
     "data": {
      "text/plain": [
       "tensorflow.python.framework.ops.Tensor"
      ]
     },
     "execution_count": 32,
     "metadata": {},
     "output_type": "execute_result"
    }
   ],
   "source": [
    "world_const = tf.constant('world!')\n",
    "\n",
    "type(world_const)"
   ]
  },
  {
   "cell_type": "markdown",
   "metadata": {},
   "source": [
    "### sessions"
   ]
  },
  {
   "cell_type": "markdown",
   "metadata": {},
   "source": [
    "tensorflow won't just run operations. first you have to initialize a session, then set up the operation, then run. observe:"
   ]
  },
  {
   "cell_type": "code",
   "execution_count": 26,
   "metadata": {},
   "outputs": [
    {
     "data": {
      "text/plain": [
       "<tf.Tensor 'add_6:0' shape=() dtype=string>"
      ]
     },
     "execution_count": 26,
     "metadata": {},
     "output_type": "execute_result"
    }
   ],
   "source": [
    "# can't just add them together to output a result:\n",
    "\n",
    "hello_world = hello_const + world_const\n",
    "\n",
    "# instead of the result, this will give information on the request\n",
    "hello_world"
   ]
  },
  {
   "cell_type": "code",
   "execution_count": 27,
   "metadata": {},
   "outputs": [
    {
     "data": {
      "text/plain": [
       "tensorflow.python.framework.ops.Tensor"
      ]
     },
     "execution_count": 27,
     "metadata": {},
     "output_type": "execute_result"
    }
   ],
   "source": [
    "# what type is hello_world? a tensor:\n",
    "\n",
    "type(hello_world)"
   ]
  },
  {
   "cell_type": "markdown",
   "metadata": {},
   "source": [
    "now the right way: run it in a session using 'with' keyword"
   ]
  },
  {
   "cell_type": "code",
   "execution_count": 30,
   "metadata": {},
   "outputs": [],
   "source": [
    "# set up the session\n",
    "# then run it\n",
    "\n",
    "with tf.Session() as sess:\n",
    "    hello_world = sess.run(hello_const + world_const)"
   ]
  },
  {
   "cell_type": "code",
   "execution_count": 33,
   "metadata": {},
   "outputs": [
    {
     "data": {
      "text/plain": [
       "b'hello world!'"
      ]
     },
     "execution_count": 33,
     "metadata": {},
     "output_type": "execute_result"
    }
   ],
   "source": [
    "# get the result\n",
    "\n",
    "hello_world"
   ]
  },
  {
   "cell_type": "markdown",
   "metadata": {},
   "source": [
    "the session-run-rule also applies to integer constants:"
   ]
  },
  {
   "cell_type": "code",
   "execution_count": 36,
   "metadata": {},
   "outputs": [
    {
     "name": "stdout",
     "output_type": "stream",
     "text": [
      "<class 'tensorflow.python.framework.ops.Tensor'>\n",
      "<class 'tensorflow.python.framework.ops.Tensor'>\n"
     ]
    }
   ],
   "source": [
    "# these are tensors, just like above\n",
    "\n",
    "const_1 = tf.constant(1)\n",
    "const_2 = tf.constant(2)\n",
    "\n",
    "# see?\n",
    "print(type(const_1))\n",
    "print(type(const_2))"
   ]
  },
  {
   "cell_type": "code",
   "execution_count": 38,
   "metadata": {},
   "outputs": [
    {
     "data": {
      "text/plain": [
       "<tf.Tensor 'add_10:0' shape=() dtype=int32>"
      ]
     },
     "execution_count": 38,
     "metadata": {},
     "output_type": "execute_result"
    }
   ],
   "source": [
    "const_1 + const_2"
   ]
  },
  {
   "cell_type": "code",
   "execution_count": 39,
   "metadata": {},
   "outputs": [
    {
     "data": {
      "text/plain": [
       "<tf.Tensor 'add_11:0' shape=() dtype=int32>"
      ]
     },
     "execution_count": 39,
     "metadata": {},
     "output_type": "execute_result"
    }
   ],
   "source": [
    "add_result = const_1 + const_2\n",
    "\n",
    "add_result"
   ]
  },
  {
   "cell_type": "code",
   "execution_count": 41,
   "metadata": {},
   "outputs": [],
   "source": [
    "# set up a session, run the computation\n",
    "\n",
    "with tf.Session() as sess:\n",
    "    sess_add = sess.run(add_result)"
   ]
  },
  {
   "cell_type": "code",
   "execution_count": 44,
   "metadata": {},
   "outputs": [
    {
     "data": {
      "text/plain": [
       "3"
      ]
     },
     "execution_count": 44,
     "metadata": {},
     "output_type": "execute_result"
    }
   ],
   "source": [
    "# it works!\n",
    "\n",
    "sess_add"
   ]
  },
  {
   "cell_type": "markdown",
   "metadata": {},
   "source": [
    "#### other operations"
   ]
  },
  {
   "cell_type": "markdown",
   "metadata": {},
   "source": [
    "let's create and run some matrices using this tensorflow session:"
   ]
  },
  {
   "cell_type": "code",
   "execution_count": 47,
   "metadata": {},
   "outputs": [],
   "source": [
    "# tensorflow has a number of methods to create matrices\n",
    "# as always shift + tab to see options\n",
    "\n",
    "# arguments here: dimensions (5x5), fill number (10s)\n",
    "matrix_10s = tf.fill((5,5),10)\n",
    "\n",
    "# similar to numpy zeros(), pass dimensions in as a tuple\n",
    "matrix_0s = tf.zeros((5,5))\n",
    "\n",
    "# similar to numpy ones(), pass dimensions in as a tuple\n",
    "matrix_1s = tf.ones((5,5))\n",
    "\n",
    "# draws from random normal distribution\n",
    "# specify dimensions as tuple, mean & stddev (values here are defaults, for example purposes)\n",
    "matrix_rand_nrml = tf.random_normal((5,5), mean=0, stddev=1.0)\n",
    "\n",
    "# draws from random uniform distribution, specify min value & max value\n",
    "matrix_rand_uni = tf.random_uniform((5,5), minval=0, maxval=1)\n",
    "\n",
    "# although values have been assigned (ie nodes designated)\n",
    "# executing this window won't do anything visible"
   ]
  },
  {
   "cell_type": "code",
   "execution_count": 49,
   "metadata": {},
   "outputs": [
    {
     "name": "stdout",
     "output_type": "stream",
     "text": [
      "Tensor(\"Fill_2:0\", shape=(5, 5), dtype=int32) Tensor(\"zeros_1:0\", shape=(5, 5), dtype=float32) Tensor(\"ones_1:0\", shape=(5, 5), dtype=float32) Tensor(\"random_normal_1:0\", shape=(5, 5), dtype=float32) Tensor(\"random_uniform_1:0\", shape=(5, 5), dtype=float32)\n"
     ]
    }
   ],
   "source": [
    "# again, this only displays types--not results\n",
    "# these are tensors of shape 5x5\n",
    "\n",
    "print(matrix_10s, matrix_0s, matrix_1s, matrix_rand_nrml, matrix_rand_uni)"
   ]
  },
  {
   "cell_type": "markdown",
   "metadata": {},
   "source": [
    "now let's run these operations (in a session) to actually create these matrices:"
   ]
  },
  {
   "cell_type": "code",
   "execution_count": 58,
   "metadata": {},
   "outputs": [
    {
     "name": "stdout",
     "output_type": "stream",
     "text": [
      "[[10 10 10 10 10]\n",
      " [10 10 10 10 10]\n",
      " [10 10 10 10 10]\n",
      " [10 10 10 10 10]\n",
      " [10 10 10 10 10]] \n",
      "\n",
      "[[0. 0. 0. 0. 0.]\n",
      " [0. 0. 0. 0. 0.]\n",
      " [0. 0. 0. 0. 0.]\n",
      " [0. 0. 0. 0. 0.]\n",
      " [0. 0. 0. 0. 0.]] \n",
      "\n",
      "[[1. 1. 1. 1. 1.]\n",
      " [1. 1. 1. 1. 1.]\n",
      " [1. 1. 1. 1. 1.]\n",
      " [1. 1. 1. 1. 1.]\n",
      " [1. 1. 1. 1. 1.]] \n",
      "\n",
      "[[-1.4953055  -0.02974314  0.21285395  0.7526569  -0.19957118]\n",
      " [-2.0818648  -1.466015   -0.21336704 -0.47112435 -0.9460184 ]\n",
      " [ 1.422221   -1.3705472   0.24465986  1.1819116  -1.0084287 ]\n",
      " [ 0.7728608  -0.41386327 -0.19681427  0.5536151  -0.8584271 ]\n",
      " [-1.6168275  -1.1169975   0.76580685 -0.13801475 -0.03801071]] \n",
      "\n",
      "[[0.50554    0.3025005  0.35884655 0.6664016  0.30117214]\n",
      " [0.04736674 0.28699362 0.6510503  0.7422918  0.19725108]\n",
      " [0.5796169  0.8883376  0.8934052  0.04474401 0.24305785]\n",
      " [0.00198519 0.08063889 0.13913214 0.62264407 0.41798925]\n",
      " [0.111202   0.27060628 0.9137343  0.12376583 0.16896546]] \n",
      "\n"
     ]
    }
   ],
   "source": [
    "matrices = [matrix_10s, matrix_0s, matrix_1s, matrix_rand_nrml, matrix_rand_uni]\n",
    "\n",
    "with tf.Session() as sess:\n",
    "    for matrix in matrices:\n",
    "        matrix = sess.run(matrix)\n",
    "        print(matrix, '\\n')\n",
    "        \n",
    "# could also have used: print(sess.run(matrix), '\\n')\n",
    "# written this way for clarity"
   ]
  },
  {
   "cell_type": "markdown",
   "metadata": {},
   "source": [
    "### for notebooks only: interactive sessions\n",
    "\n",
    "(demo/exploratory only, not production!)"
   ]
  },
  {
   "cell_type": "code",
   "execution_count": 69,
   "metadata": {},
   "outputs": [],
   "source": [
    "# initialize an interactive session once:\n",
    "\n",
    "sess = tf.InteractiveSession()"
   ]
  },
  {
   "cell_type": "code",
   "execution_count": 70,
   "metadata": {},
   "outputs": [
    {
     "name": "stdout",
     "output_type": "stream",
     "text": [
      "[[10 10 10 10 10]\n",
      " [10 10 10 10 10]\n",
      " [10 10 10 10 10]\n",
      " [10 10 10 10 10]\n",
      " [10 10 10 10 10]] \n",
      "\n",
      "[[0. 0. 0. 0. 0.]\n",
      " [0. 0. 0. 0. 0.]\n",
      " [0. 0. 0. 0. 0.]\n",
      " [0. 0. 0. 0. 0.]\n",
      " [0. 0. 0. 0. 0.]] \n",
      "\n",
      "[[1. 1. 1. 1. 1.]\n",
      " [1. 1. 1. 1. 1.]\n",
      " [1. 1. 1. 1. 1.]\n",
      " [1. 1. 1. 1. 1.]\n",
      " [1. 1. 1. 1. 1.]] \n",
      "\n",
      "[[ 0.30078822 -0.3652641  -1.5013678  -0.57419926 -2.4534965 ]\n",
      " [-1.3006604  -3.1587548  -2.0857582  -0.6759294  -0.98026705]\n",
      " [ 3.0593398   2.0785499  -0.13183726  1.2449057   1.6237723 ]\n",
      " [-0.41720775 -1.2550651  -0.9903041  -0.3700718   0.35372376]\n",
      " [-1.0963378   0.280933    0.9090837   0.10284939  2.098315  ]] \n",
      "\n",
      "[[0.25819778 0.25928283 0.08141637 0.21233153 0.5674292 ]\n",
      " [0.894876   0.40571105 0.8185481  0.90550935 0.81330264]\n",
      " [0.6329787  0.777809   0.4340359  0.02841759 0.13754964]\n",
      " [0.52275395 0.6642351  0.60434556 0.386922   0.68181217]\n",
      " [0.46332812 0.8321761  0.9226556  0.68266404 0.7311609 ]] \n",
      "\n"
     ]
    }
   ],
   "source": [
    "# run the matrix operations again\n",
    "# this time don't need to set up a session\n",
    "\n",
    "for matrix in matrices:\n",
    "    print(sess.run(matrix), '\\n')\n",
    "\n",
    "# could have also used: print(matrix.eval(), '\\n')"
   ]
  },
  {
   "cell_type": "code",
   "execution_count": 71,
   "metadata": {},
   "outputs": [],
   "source": [
    "sess.close()"
   ]
  },
  {
   "cell_type": "markdown",
   "metadata": {},
   "source": [
    "### matrix multiplication"
   ]
  },
  {
   "cell_type": "code",
   "execution_count": 82,
   "metadata": {},
   "outputs": [],
   "source": [
    "matrix_A = tf.constant([[5,10,],\n",
    "                        [15,20]])\n",
    "\n",
    "matrix_B = tf.constant([[25,30,35],\n",
    "                        [40,45,50]])"
   ]
  },
  {
   "cell_type": "code",
   "execution_count": 85,
   "metadata": {},
   "outputs": [
    {
     "data": {
      "text/plain": [
       "<bound method Tensor.get_shape of <tf.Tensor 'Const_19:0' shape=(2, 2) dtype=int32>>"
      ]
     },
     "execution_count": 85,
     "metadata": {},
     "output_type": "execute_result"
    }
   ],
   "source": [
    "# matrix_A is a 2x2 matrix\n",
    "\n",
    "matrix_A.get_shape"
   ]
  },
  {
   "cell_type": "code",
   "execution_count": 86,
   "metadata": {},
   "outputs": [
    {
     "data": {
      "text/plain": [
       "<bound method Tensor.get_shape of <tf.Tensor 'Const_20:0' shape=(2, 3) dtype=int32>>"
      ]
     },
     "execution_count": 86,
     "metadata": {},
     "output_type": "execute_result"
    }
   ],
   "source": [
    "# matrix_B is a 2x3 matrix\n",
    "\n",
    "matrix_B.get_shape"
   ]
  },
  {
   "cell_type": "code",
   "execution_count": 91,
   "metadata": {},
   "outputs": [],
   "source": [
    "# set up what we want to do, assing the operation to a variable\n",
    "# tf.matmul() does matrix multiplication (duh)\n",
    "\n",
    "mat_multiply = tf.matmul(matrix_A, matrix_B)"
   ]
  },
  {
   "cell_type": "code",
   "execution_count": 92,
   "metadata": {},
   "outputs": [
    {
     "data": {
      "text/plain": [
       "tensorflow.python.framework.ops.Tensor"
      ]
     },
     "execution_count": 92,
     "metadata": {},
     "output_type": "execute_result"
    }
   ],
   "source": [
    "type(mat_multiply)"
   ]
  },
  {
   "cell_type": "markdown",
   "metadata": {},
   "source": [
    "now to run it in a session:"
   ]
  },
  {
   "cell_type": "code",
   "execution_count": 98,
   "metadata": {},
   "outputs": [
    {
     "name": "stdout",
     "output_type": "stream",
     "text": [
      "[[ 525  600  675]\n",
      " [1175 1350 1525]]\n"
     ]
    }
   ],
   "source": [
    "# set up the session\n",
    "# remember we closed our interactive session from earlier\n",
    "\n",
    "with tf.Session() as sess:\n",
    "    print(sess.run(mat_multiply))"
   ]
  },
  {
   "cell_type": "code",
   "execution_count": 100,
   "metadata": {},
   "outputs": [
    {
     "name": "stdout",
     "output_type": "stream",
     "text": [
      "[[ 525  600  675]\n",
      " [1175 1350 1525]]\n"
     ]
    }
   ],
   "source": [
    "# note: could also use .eval() here too\n",
    "\n",
    "with tf.Session() as sess:\n",
    "    print(mat_multiply.eval())"
   ]
  },
  {
   "cell_type": "markdown",
   "metadata": {},
   "source": [
    "## graphs in tensorflow"
   ]
  },
  {
   "cell_type": "code",
   "execution_count": 104,
   "metadata": {},
   "outputs": [
    {
     "name": "stdout",
     "output_type": "stream",
     "text": [
      "3\n"
     ]
    }
   ],
   "source": [
    "node_1 = tf.constant(1)\n",
    "\n",
    "node_2 = tf.constant(2)\n",
    "\n",
    "node_3 = node_1 + node_2\n",
    "\n",
    "with tf.Session() as sess:\n",
    "    add_nodes = sess.run(node_3)\n",
    "\n",
    "print(add_nodes)"
   ]
  },
  {
   "cell_type": "markdown",
   "metadata": {},
   "source": [
    "reminder: simply calling node_3 won't run it; it had to be run in a session (as above). calling node_3 just returns the type:"
   ]
  },
  {
   "cell_type": "code",
   "execution_count": 106,
   "metadata": {},
   "outputs": [
    {
     "name": "stdout",
     "output_type": "stream",
     "text": [
      "Tensor(\"add_14:0\", shape=(), dtype=int32)\n"
     ]
    }
   ],
   "source": [
    "print(node_3)"
   ]
  },
  {
   "cell_type": "markdown",
   "metadata": {},
   "source": [
    "#### default graphs"
   ]
  },
  {
   "cell_type": "code",
   "execution_count": 108,
   "metadata": {},
   "outputs": [
    {
     "name": "stdout",
     "output_type": "stream",
     "text": [
      "<tensorflow.python.framework.ops.Graph object at 0x7f07cd5117b8>\n"
     ]
    }
   ],
   "source": [
    "# shows graph object type & location in memory\n",
    "\n",
    "print(tf.get_default_graph())"
   ]
  },
  {
   "cell_type": "code",
   "execution_count": 113,
   "metadata": {},
   "outputs": [
    {
     "name": "stdout",
     "output_type": "stream",
     "text": [
      "<tensorflow.python.framework.ops.Graph object at 0x7f07cc1610f0>\n"
     ]
    }
   ],
   "source": [
    "# make a new graph\n",
    "\n",
    "second_graph = tf.Graph()\n",
    "\n",
    "# will show a different graph object (different memory location)\n",
    "\n",
    "print(second_graph)"
   ]
  },
  {
   "cell_type": "markdown",
   "metadata": {},
   "source": [
    "resetting the default graph:"
   ]
  },
  {
   "cell_type": "code",
   "execution_count": 114,
   "metadata": {},
   "outputs": [
    {
     "name": "stdout",
     "output_type": "stream",
     "text": [
      "<tensorflow.python.framework.ops.Graph object at 0x7f07cd5117b8>\n"
     ]
    }
   ],
   "source": [
    "# set the current default graph to a variable:\n",
    "\n",
    "first_graph = tf.get_default_graph()\n",
    "\n",
    "# check to see: first_graph IS the original default graph\n",
    "# same memory location: 0x7f07cd5117b8\n",
    "\n",
    "print(first_graph)"
   ]
  },
  {
   "cell_type": "code",
   "execution_count": 116,
   "metadata": {},
   "outputs": [
    {
     "name": "stdout",
     "output_type": "stream",
     "text": [
      "<tensorflow.python.framework.ops.Graph object at 0x7f07cc161898>\n"
     ]
    }
   ],
   "source": [
    "# mae a 3rd graph (order: default/first, second, third)\n",
    "\n",
    "third_graph = tf.Graph()\n",
    "\n",
    "print(third_graph)"
   ]
  },
  {
   "cell_type": "code",
   "execution_count": 119,
   "metadata": {},
   "outputs": [
    {
     "name": "stdout",
     "output_type": "stream",
     "text": [
      "True\n"
     ]
    }
   ],
   "source": [
    "# set second_graph to run as the default using .as_default()\n",
    "\n",
    "with second_graph.as_default():\n",
    "    \n",
    "    # use 'is' to check if second_graph is the default, will return True if it is\n",
    "    print(second_graph is tf.get_default_graph())"
   ]
  },
  {
   "cell_type": "markdown",
   "metadata": {},
   "source": [
    "but this doesn't make second_graph the default! it's only *running as* the default in the current session. here's what happens using the 'is' keyword to check whether second_graph is the default *outside* of the session:"
   ]
  },
  {
   "cell_type": "code",
   "execution_count": 120,
   "metadata": {},
   "outputs": [
    {
     "name": "stdout",
     "output_type": "stream",
     "text": [
      "False\n"
     ]
    }
   ],
   "source": [
    "print(second_graph is tf.get_default_graph())"
   ]
  },
  {
   "cell_type": "markdown",
   "metadata": {},
   "source": [
    "it's false, because outside of that session second_graph is not the default; first_graph still is:"
   ]
  },
  {
   "cell_type": "code",
   "execution_count": 121,
   "metadata": {},
   "outputs": [
    {
     "name": "stdout",
     "output_type": "stream",
     "text": [
      "<tensorflow.python.framework.ops.Graph object at 0x7f07cd5117b8>\n"
     ]
    }
   ],
   "source": [
    "print(tf.get_default_graph())"
   ]
  },
  {
   "cell_type": "markdown",
   "metadata": {},
   "source": [
    "note the memory location: 0x7f07cd5117b8\n",
    "\n",
    "the default graph is still the original default graph, aka first_graph, outside the session where we ran second_graph as default."
   ]
  },
  {
   "cell_type": "code",
   "execution_count": null,
   "metadata": {},
   "outputs": [],
   "source": []
  }
 ],
 "metadata": {
  "kernelspec": {
   "display_name": "Python 3",
   "language": "python",
   "name": "python3"
  },
  "language_info": {
   "codemirror_mode": {
    "name": "ipython",
    "version": 3
   },
   "file_extension": ".py",
   "mimetype": "text/x-python",
   "name": "python",
   "nbconvert_exporter": "python",
   "pygments_lexer": "ipython3",
   "version": "3.6.5"
  }
 },
 "nbformat": 4,
 "nbformat_minor": 2
}

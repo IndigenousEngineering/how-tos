{
 "cells": [
  {
   "cell_type": "markdown",
   "metadata": {},
   "source": [
    "# one-hot encoding for categorical data\n",
    "\n",
    "#### computers can't learn much from words; they need numbers.\n",
    "\n",
    "in order to be machine-readable, categorical data need to be converted into something the computer can understand and learn from: numbers.\n",
    "\n",
    "there are 2 steps to encoding categorical data--however, depending on the data you may not need to do both:\n",
    "\n",
    "##### 1) integer encoding\n",
    "##### 2) one-hot encoding\n",
    "\n",
    "### integer encoding\n",
    "\n",
    "for categories with an inherent numerical hierarchy, i.e. ordinal relationships, integer encoding is sufficient.\n",
    "\n",
    "if there's no ordinal relationship in the data, stopping at this step might cause the model to infer an ordinal relationship where none exists. \n",
    "\n",
    "#### example:\n",
    "\n",
    "a customer service rating survey where the choices were \"not satisfied, somewhat satisfied, very satisfied\" could be encoded into integers [1, 2, 3], for example, allowing the computer to infer relationships successfully. this is an example of ordinal data--the ordering of the integers means something. \n",
    "\n",
    "choices of colors like \"blue, red, yellow\", if labeled [1, 2, 3] respectively, might imply that, say, blue is better than red, and both blue and red are better than yellow. these categories have no ordinal relationship.\n",
    "\n",
    "### one hot encoding\n",
    "\n",
    "for categories with no ordinal relationship, such as the color example above, one hot encoding is neccessery to properly vectorize the data. one hot encoding converts each category into a binary variable, assigned a 1 for a positive instance in a row, while all other categories in the instance row are assigned a 0.\n",
    "\n",
    "### scikit-learn's categorical encoding\n",
    "\n",
    "scikit-learn's library includes encoder objects that make things easy. we'll start with the LabelEncoder object for integer encoding, and then demo the OneHotEncoder for a complete encoding intro.\n"
   ]
  },
  {
   "cell_type": "code",
   "execution_count": null,
   "metadata": {},
   "outputs": [],
   "source": []
  }
 ],
 "metadata": {
  "kernelspec": {
   "display_name": "Python 3",
   "language": "python",
   "name": "python3"
  },
  "language_info": {
   "codemirror_mode": {
    "name": "ipython",
    "version": 3
   },
   "file_extension": ".py",
   "mimetype": "text/x-python",
   "name": "python",
   "nbconvert_exporter": "python",
   "pygments_lexer": "ipython3",
   "version": "3.5.2"
  }
 },
 "nbformat": 4,
 "nbformat_minor": 2
}

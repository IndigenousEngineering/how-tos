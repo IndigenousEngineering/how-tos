{
 "cells": [
  {
   "cell_type": "markdown",
   "metadata": {},
   "source": [
    "# one-hot encoding for categorical data\n",
    "\n",
    "#### computers can't learn much from words; they need numbers.\n",
    "\n",
    "in order to be machine-readable, categorical data need to be converted into something the computer can understand and learn from: numbers.\n",
    "\n",
    "there are 2 steps to encoding categorical data--however, depending on the data you may not need to do both:\n",
    "\n",
    "##### 1) integer encoding\n",
    "##### 2) one-hot encoding\n",
    "\n",
    "### integer encoding\n",
    "\n",
    "for categories with an inherent numerical hierarchy, i.e. ordinal relationships, integer encoding is sufficient.\n",
    "\n",
    "if there's no ordinal relationship in the data, stopping at this step might cause the model to infer an ordinal relationship where none exists. \n",
    "\n",
    "#### example:\n",
    "\n",
    "a customer service rating survey where the choices were \"not satisfied, somewhat satisfied, very satisfied\" could be encoded into integers [1, 2, 3], for example, allowing the computer to infer relationships successfully. this is an example of ordinal data--the ordering of the integers means something. \n",
    "\n",
    "choices of colors like \"blue, red, yellow\", if labeled [1, 2, 3] respectively, might imply that, say, blue is better than red, and both blue and red are better than yellow. these categories have no ordinal relationship.\n",
    "\n",
    "### one hot encoding\n",
    "\n",
    "for categories with no ordinal relationship, such as the color example above, one hot encoding is neccessery to properly vectorize the data. one hot encoding converts each category into a binary variable, assigned a 1 for a positive instance in a row, while all other categories in the instance row are assigned a 0.\n",
    "\n",
    "### scikit-learn's categorical encoding\n",
    "\n",
    "scikit-learn's library includes encoder objects that make things easy. we'll start with the LabelEncoder object for integer encoding, and then demo the OneHotEncoder for a complete encoding intro.\n"
   ]
  },
  {
   "cell_type": "markdown",
   "metadata": {},
   "source": [
    "## encoding\n",
    "\n",
    "let's define some data. we'll stick with the color categories \"blue, red, yellow\" from above."
   ]
  },
  {
   "cell_type": "code",
   "execution_count": 6,
   "metadata": {},
   "outputs": [
    {
     "name": "stdout",
     "output_type": "stream",
     "text": [
      "['yellow' 'yellow' 'red' 'blue' 'yellow' 'blue' 'blue' 'red' 'yellow'\n",
      " 'red' 'blue']\n"
     ]
    }
   ],
   "source": [
    "# imports \n",
    "\n",
    "from numpy import array\n",
    "from numpy import argmax\n",
    "from sklearn.preprocessing import LabelEncoder\n",
    "from sklearn.preprocessing import OneHotEncoder\n",
    "\n",
    "data = ['yellow', 'yellow', 'red', 'blue', 'yellow', 'blue', 'blue', 'red', 'yellow', 'red', 'blue']\n",
    "\n",
    "data_arr = array(data)\n",
    "\n",
    "print(data_arr)"
   ]
  },
  {
   "cell_type": "markdown",
   "metadata": {},
   "source": [
    "perfect.\n",
    "\n",
    "#### step 1: integer encoding"
   ]
  },
  {
   "cell_type": "code",
   "execution_count": 8,
   "metadata": {},
   "outputs": [
    {
     "name": "stdout",
     "output_type": "stream",
     "text": [
      "[2 2 1 0 2 0 0 1 2 1 0]\n"
     ]
    }
   ],
   "source": [
    "# instantiate LabelEncoder object\n",
    "\n",
    "label_encoder = LabelEncoder()\n",
    "\n",
    "# fit & transform the categorical labels into integers\n",
    "# feed in the array we just made\n",
    "\n",
    "int_encode = label_encoder.fit_transform(data_arr)\n",
    "\n",
    "# test\n",
    "\n",
    "print(int_encode)"
   ]
  },
  {
   "cell_type": "markdown",
   "metadata": {},
   "source": [
    "if these data were ordinal, we'd be done now. but we don't want the model to infer an ordinal relationship where none exists, as this could negatively impact our model's performance. \n",
    "\n",
    "so we move on to binary (one hot) encoding.\n",
    "\n",
    "#### step 2: one hot encoding\n",
    "\n",
    "note: by default, sklearn's OneHotEncoder produces a sparse matrix--it's a way to save memory. however this doesn't always work for all machine learning libraries. for example, the keras DL library doesn't work with sparse matrices. to fix this, when creating a OneHotEncoder object, just set the \"sparse\" parameter to False."
   ]
  },
  {
   "cell_type": "code",
   "execution_count": 10,
   "metadata": {},
   "outputs": [
    {
     "name": "stdout",
     "output_type": "stream",
     "text": [
      "[[0. 0. 1.]\n",
      " [0. 0. 1.]\n",
      " [0. 1. 0.]\n",
      " [1. 0. 0.]\n",
      " [0. 0. 1.]\n",
      " [1. 0. 0.]\n",
      " [1. 0. 0.]\n",
      " [0. 1. 0.]\n",
      " [0. 0. 1.]\n",
      " [0. 1. 0.]\n",
      " [1. 0. 0.]]\n"
     ]
    }
   ],
   "source": [
    "# instantiate encoder object\n",
    "\n",
    "one_hot_encoder = OneHotEncoder(sparse=False)\n",
    "\n",
    "# reshape data into n x 1 matrix\n",
    "\n",
    "int_data = int_encode.reshape(len(int_encode), 1)\n",
    "\n",
    "# fit & transform\n",
    "\n",
    "one_hot_data = one_hot_encoder.fit_transform(int_data)\n",
    "\n",
    "# test\n",
    "\n",
    "print(one_hot_data)"
   ]
  },
  {
   "cell_type": "markdown",
   "metadata": {},
   "source": [
    " sweet. our data is now machine readable.\n",
    " \n",
    " ## for more information on sklearn's categorical label encoders:\n",
    "\n",
    " ##### sklearn LabelEncoder documentation\n",
    " \n",
    " http://scikit-learn.org/stable/modules/generated/sklearn.preprocessing.LabelEncoder.html\n",
    " \n",
    " ##### sklearn OneHotEncoder documentation\n",
    " \n",
    " http://scikit-learn.org/stable/modules/generated/sklearn.preprocessing.OneHotEncoder.html"
   ]
  }
 ],
 "metadata": {
  "kernelspec": {
   "display_name": "Python 3",
   "language": "python",
   "name": "python3"
  },
  "language_info": {
   "codemirror_mode": {
    "name": "ipython",
    "version": 3
   },
   "file_extension": ".py",
   "mimetype": "text/x-python",
   "name": "python",
   "nbconvert_exporter": "python",
   "pygments_lexer": "ipython3",
   "version": "3.5.2"
  }
 },
 "nbformat": 4,
 "nbformat_minor": 2
}

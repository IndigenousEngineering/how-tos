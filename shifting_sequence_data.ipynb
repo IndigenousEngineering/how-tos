{
 "cells": [
  {
   "cell_type": "markdown",
   "metadata": {},
   "source": [
    "# shifting sequence data\n",
    "\n",
    "#### sequences don't fit the typical supervised learning model\n",
    "\n",
    "supervised learning models require data as input, and target classifications as output. it's the model's job to figure out a function that maps inputs to outputs.\n",
    "\n",
    "fundamentally, this means that any supervised model will require each instance to have an input with a specific, mapped output, to learn from. for example, a classification problem attempts to find a function that sorts data into some pre-set classes; it's this input-to-output mapping that the model tries to infer.\n",
    "\n",
    "time- and other sequences do not naturally fit this shape: after all, sequences are just ordered lists, not (for example) taxonomies.\n",
    "\n",
    "in order to provide a supervised learning model with a predicted value or \"target\" to learn from, we'll need to create a column of values that are the known \"next step\" for each adjacent time step in each row of the sequence we want to predict. \n",
    "\n",
    "in other words, we create a column shifting each step either forward or backwards, then feed the resulting pair of columns into our supervised model.\n",
    "\n",
    "### libraries used\n",
    "\n",
    "pandas provides an easy way to shift data, using the shift() function.\n",
    "\n",
    "in order to apply the shift() function, we need to import pandas, and create data in pandas DataFrame format."
   ]
  },
  {
   "cell_type": "code",
   "execution_count": 46,
   "metadata": {},
   "outputs": [],
   "source": [
    "import pandas as pd"
   ]
  },
  {
   "cell_type": "markdown",
   "metadata": {},
   "source": [
    "## shifting\n",
    "\n",
    "creating a series of time steps in an indexed DataFrame:"
   ]
  },
  {
   "cell_type": "code",
   "execution_count": 47,
   "metadata": {},
   "outputs": [
    {
     "name": "stdout",
     "output_type": "stream",
     "text": [
      "    time_step\n",
      "0           0\n",
      "1           1\n",
      "2           2\n",
      "3           3\n",
      "4           4\n",
      "5           5\n",
      "6           6\n",
      "7           7\n",
      "8           8\n",
      "9           9\n",
      "10         10\n",
      "11         11\n",
      "12         12\n",
      "13         13\n",
      "14         14\n",
      "15         15\n",
      "16         16\n",
      "17         17\n",
      "18         18\n",
      "19         19\n",
      "20         20\n",
      "21         21\n",
      "22         22\n",
      "23         23\n",
      "24         24\n",
      "25         25\n"
     ]
    }
   ],
   "source": [
    "seq_data = pd.DataFrame()\n",
    "\n",
    "seq_data['time_step'] = [i for i in range(26)]\n",
    "\n",
    "# test, should return DataFrame with indexed values\n",
    "\n",
    "print(seq_data)"
   ]
  },
  {
   "cell_type": "markdown",
   "metadata": {},
   "source": [
    "now that we have a DataFrame, we can use the pandas shift() function to create a column where each time point is shifted by one step. we can call it 't-1', referring to each shifted step's relationship with the row-adjacent step."
   ]
  },
  {
   "cell_type": "code",
   "execution_count": 48,
   "metadata": {},
   "outputs": [
    {
     "name": "stdout",
     "output_type": "stream",
     "text": [
      "    time_step   t-1\n",
      "0           0   NaN\n",
      "1           1   0.0\n",
      "2           2   1.0\n",
      "3           3   2.0\n",
      "4           4   3.0\n",
      "5           5   4.0\n",
      "6           6   5.0\n",
      "7           7   6.0\n",
      "8           8   7.0\n",
      "9           9   8.0\n",
      "10         10   9.0\n",
      "11         11  10.0\n",
      "12         12  11.0\n",
      "13         13  12.0\n",
      "14         14  13.0\n",
      "15         15  14.0\n",
      "16         16  15.0\n",
      "17         17  16.0\n",
      "18         18  17.0\n",
      "19         19  18.0\n",
      "20         20  19.0\n",
      "21         21  20.0\n",
      "22         22  21.0\n",
      "23         23  22.0\n",
      "24         24  23.0\n",
      "25         25  24.0\n"
     ]
    }
   ],
   "source": [
    "seq_data['t-1'] = seq_data['time_step'].shift(1)\n",
    "\n",
    "print(seq_data)"
   ]
  },
  {
   "cell_type": "markdown",
   "metadata": {},
   "source": [
    "note: the 't-1' column simply lists the previous time step on the same row as the \"current\" time step. since the value at index [0] doesn't have a previous step, pandas shift() function puts NaN there instead. practically speaking, this non-numeric value means we will have to discard the first row or our data.\n",
    "\n",
    "#### shifting by different increments\n",
    "\n",
    "we can provide a column of values shifted by almost any amount.\n",
    "\n",
    "however, it's important to keep in mind that adding a column shifted by n-steps meand we will lose n-rows of our data:"
   ]
  },
  {
   "cell_type": "code",
   "execution_count": 49,
   "metadata": {},
   "outputs": [
    {
     "name": "stdout",
     "output_type": "stream",
     "text": [
      "    time_step   t-1   t-3\n",
      "0           0   NaN   NaN\n",
      "1           1   0.0   NaN\n",
      "2           2   1.0   NaN\n",
      "3           3   2.0   0.0\n",
      "4           4   3.0   1.0\n",
      "5           5   4.0   2.0\n",
      "6           6   5.0   3.0\n",
      "7           7   6.0   4.0\n",
      "8           8   7.0   5.0\n",
      "9           9   8.0   6.0\n",
      "10         10   9.0   7.0\n",
      "11         11  10.0   8.0\n",
      "12         12  11.0   9.0\n",
      "13         13  12.0  10.0\n",
      "14         14  13.0  11.0\n",
      "15         15  14.0  12.0\n",
      "16         16  15.0  13.0\n",
      "17         17  16.0  14.0\n",
      "18         18  17.0  15.0\n",
      "19         19  18.0  16.0\n",
      "20         20  19.0  17.0\n",
      "21         21  20.0  18.0\n",
      "22         22  21.0  19.0\n",
      "23         23  22.0  20.0\n",
      "24         24  23.0  21.0\n",
      "25         25  24.0  22.0\n"
     ]
    }
   ],
   "source": [
    "seq_data['t-3'] = seq_data['time_step'].shift(3)\n",
    "\n",
    "print(seq_data)"
   ]
  },
  {
   "cell_type": "markdown",
   "metadata": {},
   "source": [
    "#### sequence generation for supervised learning\n",
    "\n",
    "it's possible to generate long sequences of data by repeating this process. \n",
    "\n",
    "with enough data, losing a few rows will matter less than on our extremely small, contrived dataset here.\n",
    "\n",
    "#### stepping in the opposite direction\n",
    "\n",
    "in order to shift the steps in the opposite direction, feed a negative number into the shift() function:"
   ]
  },
  {
   "cell_type": "code",
   "execution_count": 50,
   "metadata": {},
   "outputs": [
    {
     "name": "stdout",
     "output_type": "stream",
     "text": [
      "     0\n",
      "0    0\n",
      "1    1\n",
      "2    2\n",
      "3    3\n",
      "4    4\n",
      "5    5\n",
      "6    6\n",
      "7    7\n",
      "8    8\n",
      "9    9\n",
      "10  10\n",
      "11  11\n",
      "12  12\n",
      "13  13\n",
      "14  14\n",
      "15  15\n",
      "16  16\n",
      "17  17\n",
      "18  18\n",
      "19  19\n",
      "20  20\n",
      "21  21\n",
      "22  22\n",
      "23  23\n",
      "24  24\n",
      "25  25\n"
     ]
    }
   ],
   "source": [
    "# define a fresh DataFrame\n",
    "\n",
    "seq_data_2 = pd.DataFrame([i for i in range(26)])\n",
    "\n",
    "\n",
    "print(seq_data_2)"
   ]
  },
  {
   "cell_type": "code",
   "execution_count": 51,
   "metadata": {},
   "outputs": [
    {
     "name": "stdout",
     "output_type": "stream",
     "text": [
      "     0   t+1\n",
      "0    0   1.0\n",
      "1    1   2.0\n",
      "2    2   3.0\n",
      "3    3   4.0\n",
      "4    4   5.0\n",
      "5    5   6.0\n",
      "6    6   7.0\n",
      "7    7   8.0\n",
      "8    8   9.0\n",
      "9    9  10.0\n",
      "10  10  11.0\n",
      "11  11  12.0\n",
      "12  12  13.0\n",
      "13  13  14.0\n",
      "14  14  15.0\n",
      "15  15  16.0\n",
      "16  16  17.0\n",
      "17  17  18.0\n",
      "18  18  19.0\n",
      "19  19  20.0\n",
      "20  20  21.0\n",
      "21  21  22.0\n",
      "22  22  23.0\n",
      "23  23  24.0\n",
      "24  24  25.0\n",
      "25  25   NaN\n"
     ]
    }
   ],
   "source": [
    "# create the shift column\n",
    "\n",
    "seq_data_2['t+1'] = seq_data_2.shift(-1)\n",
    "\n",
    "print(seq_data_2)"
   ]
  },
  {
   "cell_type": "markdown",
   "metadata": {},
   "source": [
    "note: since we're going in the opposite direction this time, we lose the bottom row with a NaN value.\n",
    "\n",
    "for an n-step shift, we would lose n-rows:"
   ]
  },
  {
   "cell_type": "code",
   "execution_count": 52,
   "metadata": {},
   "outputs": [
    {
     "name": "stdout",
     "output_type": "stream",
     "text": [
      "     0   t+1   t+5\n",
      "0    0   1.0   5.0\n",
      "1    1   2.0   6.0\n",
      "2    2   3.0   7.0\n",
      "3    3   4.0   8.0\n",
      "4    4   5.0   9.0\n",
      "5    5   6.0  10.0\n",
      "6    6   7.0  11.0\n",
      "7    7   8.0  12.0\n",
      "8    8   9.0  13.0\n",
      "9    9  10.0  14.0\n",
      "10  10  11.0  15.0\n",
      "11  11  12.0  16.0\n",
      "12  12  13.0  17.0\n",
      "13  13  14.0  18.0\n",
      "14  14  15.0  19.0\n",
      "15  15  16.0  20.0\n",
      "16  16  17.0  21.0\n",
      "17  17  18.0  22.0\n",
      "18  18  19.0  23.0\n",
      "19  19  20.0  24.0\n",
      "20  20  21.0  25.0\n",
      "21  21  22.0   NaN\n",
      "22  22  23.0   NaN\n",
      "23  23  24.0   NaN\n",
      "24  24  25.0   NaN\n",
      "25  25   NaN   NaN\n"
     ]
    }
   ],
   "source": [
    "# this time, there's more than one column\n",
    "# so we specify which one we want to shift from\n",
    "# i.e. seq_data_2[0]\n",
    "\n",
    "seq_data_2['t+5'] = seq_data_2[0].shift(-5)\n",
    "\n",
    "print(seq_data_2)"
   ]
  },
  {
   "cell_type": "markdown",
   "metadata": {},
   "source": [
    "for a 5 step shift, we lose five rows.\n",
    "\n",
    "## conclusion\n",
    "\n",
    "providing a pair of related points for a supervised model--a first value to input, and a second correct 'target' value to predict given the first--is a basic requirement for supervised learning that time-series and other sequence prediction problems don't naturally meet.\n",
    "\n",
    "pandas' shift() function provides a neat tool to transform existing sequential data into sequences that models can use to learn & make predictions.\n",
    "\n",
    "##### for more information on pandas shift() function:\n",
    "\n",
    "https://pandas.pydata.org/pandas-docs/stable/generated/pandas.DataFrame.shift.html"
   ]
  }
 ],
 "metadata": {
  "kernelspec": {
   "display_name": "Python 3",
   "language": "python",
   "name": "python3"
  },
  "language_info": {
   "codemirror_mode": {
    "name": "ipython",
    "version": 3
   },
   "file_extension": ".py",
   "mimetype": "text/x-python",
   "name": "python",
   "nbconvert_exporter": "python",
   "pygments_lexer": "ipython3",
   "version": "3.5.3"
  }
 },
 "nbformat": 4,
 "nbformat_minor": 2
}

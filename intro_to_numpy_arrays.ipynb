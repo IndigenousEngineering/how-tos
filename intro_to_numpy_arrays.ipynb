{
 "cells": [
  {
   "cell_type": "markdown",
   "metadata": {},
   "source": [
    "# intro to numpy"
   ]
  },
  {
   "cell_type": "markdown",
   "metadata": {},
   "source": [
    "### why numpy?\n",
    "#### * powerful library of tools\n",
    "#### * backbone of many important data science libraries\n",
    "#### * super fast -- numpy's backbone is C"
   ]
  },
  {
   "cell_type": "markdown",
   "metadata": {},
   "source": [
    "### arrays in numpy : vectors & matrices\n",
    "#### * vectors: 1-d arrays\n",
    "#### * matrices: 2-d arrays (but still can have only 1 row or 1 column)"
   ]
  },
  {
   "cell_type": "code",
   "execution_count": 55,
   "metadata": {},
   "outputs": [],
   "source": [
    "# let's import numpy and shorten the name\n",
    "\n",
    "import numpy as np"
   ]
  },
  {
   "cell_type": "markdown",
   "metadata": {},
   "source": [
    "## arrays, vectors, matrices"
   ]
  },
  {
   "cell_type": "markdown",
   "metadata": {},
   "source": [
    "### convert python lists (& lists of lists) to numpy vectors and matrices"
   ]
  },
  {
   "cell_type": "code",
   "execution_count": 56,
   "metadata": {},
   "outputs": [
    {
     "data": {
      "text/plain": [
       "[1, 2, 3, 4, 5]"
      ]
     },
     "execution_count": 56,
     "metadata": {},
     "output_type": "execute_result"
    }
   ],
   "source": [
    "# a regular python list\n",
    "\n",
    "new_list = [1,2,3,4,5,]\n",
    "\n",
    "new_list"
   ]
  },
  {
   "cell_type": "code",
   "execution_count": 57,
   "metadata": {},
   "outputs": [
    {
     "data": {
      "text/plain": [
       "array([1, 2, 3, 4, 5])"
      ]
     },
     "execution_count": 57,
     "metadata": {},
     "output_type": "execute_result"
    }
   ],
   "source": [
    "# turn it into a numpy array\n",
    "# remember: numpy is 'np' now\n",
    "\n",
    "np.array(new_list)"
   ]
  },
  {
   "cell_type": "code",
   "execution_count": 58,
   "metadata": {},
   "outputs": [
    {
     "data": {
      "text/plain": [
       "array([ 6,  7,  8,  9, 10])"
      ]
     },
     "execution_count": 58,
     "metadata": {},
     "output_type": "execute_result"
    }
   ],
   "source": [
    "# can assign it to a variable\n",
    "\n",
    "new_list = [6,7,8,9,10]\n",
    "\n",
    "arr = np.array(new_list)\n",
    "\n",
    "arr"
   ]
  },
  {
   "cell_type": "code",
   "execution_count": 59,
   "metadata": {},
   "outputs": [
    {
     "data": {
      "text/plain": [
       "[[2, 4, 6, 8], [5, 10, 15, 20], [3, 6, 9, 12]]"
      ]
     },
     "execution_count": 59,
     "metadata": {},
     "output_type": "execute_result"
    }
   ],
   "source": [
    "# get a matrix from a list of lists\n",
    "\n",
    "matrix_1 = [[2,4,6,8],[5,10,15,20],[3,6,9,12]]\n",
    "\n",
    "matrix_1"
   ]
  },
  {
   "cell_type": "code",
   "execution_count": 60,
   "metadata": {},
   "outputs": [
    {
     "data": {
      "text/plain": [
       "array([[ 2,  4,  6,  8],\n",
       "       [ 5, 10, 15, 20],\n",
       "       [ 3,  6,  9, 12]])"
      ]
     },
     "execution_count": 60,
     "metadata": {},
     "output_type": "execute_result"
    }
   ],
   "source": [
    "# now cast as a numpy matrix, ie 2d array\n",
    "# note that the output is matrix-shaped (not list of lists as above)\n",
    "\n",
    "np_matrix_1 = np.array(matrix_1)\n",
    "\n",
    "np_matrix_1"
   ]
  },
  {
   "cell_type": "markdown",
   "metadata": {},
   "source": [
    "### * note: this isn't the easiest (or most common) way to create an array in numpy--it just helps if you've got a list (or list of lists) to convert :)"
   ]
  },
  {
   "cell_type": "markdown",
   "metadata": {},
   "source": [
    "## creating arrays from scratch: ranges, zeros/ones, & identity matrices"
   ]
  },
  {
   "cell_type": "code",
   "execution_count": 61,
   "metadata": {},
   "outputs": [
    {
     "name": "stdout",
     "output_type": "stream",
     "text": [
      "[0 2 4 6 8]\n",
      "[ 0  2  4  6  8 10]\n",
      "[ 0  1  2  3  4  5  6  7  8  9 10]\n"
     ]
    }
   ],
   "source": [
    "# one super common way to create a numpy array is using np.arange()\n",
    "# similar to python's range() function \n",
    "# arguments: start, stop--not inclusive!, step size\n",
    "# default start is zero, one argument only is inferred to be the non-inclusive stop point\n",
    "\n",
    "array_1 = np.arange(0,10,2)\n",
    "\n",
    "array_2 = np.arange(0,11,2)\n",
    "\n",
    "array_3 = np.arange(11)\n",
    "\n",
    "print(array_1)\n",
    "print(array_2)\n",
    "print(array_3)"
   ]
  },
  {
   "cell_type": "code",
   "execution_count": 62,
   "metadata": {},
   "outputs": [
    {
     "data": {
      "text/plain": [
       "array([0., 0., 0., 0., 0.])"
      ]
     },
     "execution_count": 62,
     "metadata": {},
     "output_type": "execute_result"
    }
   ],
   "source": [
    "# np.zeros()\n",
    "# takes single integer for 1d array\n",
    "# takes TUPLE for 2d array--add parentheses\n",
    "\n",
    "zero_arr_1d = np.zeros(5)\n",
    "\n",
    "zero_arr_1d"
   ]
  },
  {
   "cell_type": "code",
   "execution_count": 63,
   "metadata": {},
   "outputs": [
    {
     "ename": "TypeError",
     "evalue": "Required argument 'shape' (pos 1) not found",
     "output_type": "error",
     "traceback": [
      "\u001b[0;31m---------------------------------------------------------------------------\u001b[0m",
      "\u001b[0;31mTypeError\u001b[0m                                 Traceback (most recent call last)",
      "\u001b[0;32m<ipython-input-63-52c0c69380a7>\u001b[0m in \u001b[0;36m<module>\u001b[0;34m()\u001b[0m\n\u001b[1;32m      3\u001b[0m \u001b[0;31m# without a TUPLE argument, you'll get an error like this one:\u001b[0m\u001b[0;34m\u001b[0m\u001b[0;34m\u001b[0m\u001b[0m\n\u001b[1;32m      4\u001b[0m \u001b[0;34m\u001b[0m\u001b[0m\n\u001b[0;32m----> 5\u001b[0;31m \u001b[0mzero_arr\u001b[0m \u001b[0;34m=\u001b[0m \u001b[0mnp\u001b[0m\u001b[0;34m.\u001b[0m\u001b[0mzeros\u001b[0m\u001b[0;34m(\u001b[0m\u001b[0;34m)\u001b[0m\u001b[0;34m\u001b[0m\u001b[0m\n\u001b[0m",
      "\u001b[0;31mTypeError\u001b[0m: Required argument 'shape' (pos 1) not found"
     ]
    }
   ],
   "source": [
    "# making a 2d array of zeros\n",
    "# takes a TUPLE--so extra parentheses!\n",
    "# without a TUPLE argument, you'll get an error like this one:\n",
    "\n",
    "zero_arr = np.zeros()"
   ]
  },
  {
   "cell_type": "code",
   "execution_count": 64,
   "metadata": {},
   "outputs": [
    {
     "data": {
      "text/plain": [
       "array([[0., 0., 0., 0., 0.],\n",
       "       [0., 0., 0., 0., 0.],\n",
       "       [0., 0., 0., 0., 0.],\n",
       "       [0., 0., 0., 0., 0.]])"
      ]
     },
     "execution_count": 64,
     "metadata": {},
     "output_type": "execute_result"
    }
   ],
   "source": [
    "# now the right way: pass in a tuple using extra parentheses\n",
    "# this will create a 4 x 5 array of zeros\n",
    "# first number: rows\n",
    "# second number: columns\n",
    "\n",
    "zero_arr_2d = np.zeros((4,5))\n",
    "\n",
    "zero_arr"
   ]
  },
  {
   "cell_type": "code",
   "execution_count": 65,
   "metadata": {},
   "outputs": [
    {
     "name": "stdout",
     "output_type": "stream",
     "text": [
      "[1. 1. 1. 1. 1. 1. 1.]\n",
      "\n",
      "\n",
      "[[1. 1. 1. 1. 1. 1. 1.]\n",
      " [1. 1. 1. 1. 1. 1. 1.]\n",
      " [1. 1. 1. 1. 1. 1. 1.]]\n"
     ]
    }
   ],
   "source": [
    "# now with ones, same deal\n",
    "# single integer for 1d array\n",
    "# tuple argument for 2d array\n",
    "# always in this order: rows, columns\n",
    "\n",
    "ones_arr_1d = np.ones(7)\n",
    "ones_arr_2d = np.ones((3,7))\n",
    "\n",
    "print(ones_arr_1d)\n",
    "\n",
    "# separating to make this easier to read using newline ('\\n')\n",
    "print('\\n')\n",
    "\n",
    "print(ones_arr_2d)"
   ]
  },
  {
   "cell_type": "code",
   "execution_count": 66,
   "metadata": {},
   "outputs": [
    {
     "data": {
      "text/plain": [
       "array([  0.        ,  49.46153846,  98.92307692, 148.38461538,\n",
       "       197.84615385, 247.30769231, 296.76923077, 346.23076923,\n",
       "       395.69230769, 445.15384615, 494.61538462, 544.07692308,\n",
       "       593.53846154, 643.        ])"
      ]
     },
     "execution_count": 66,
     "metadata": {},
     "output_type": "execute_result"
    }
   ],
   "source": [
    "# now: np.linspace()\n",
    "# specify a start and a stop, get out evenly spaced numbers in that range, in 1d array\n",
    "# NOT neccessarily integers\n",
    "# args go in this order: start, stop, number-of-points\n",
    "\n",
    "np.linspace(0,643,14)"
   ]
  },
  {
   "cell_type": "code",
   "execution_count": 67,
   "metadata": {},
   "outputs": [
    {
     "data": {
      "text/plain": [
       "array([[1., 0., 0., 0., 0., 0., 0.],\n",
       "       [0., 1., 0., 0., 0., 0., 0.],\n",
       "       [0., 0., 1., 0., 0., 0., 0.],\n",
       "       [0., 0., 0., 1., 0., 0., 0.],\n",
       "       [0., 0., 0., 0., 1., 0., 0.],\n",
       "       [0., 0., 0., 0., 0., 1., 0.],\n",
       "       [0., 0., 0., 0., 0., 0., 1.]])"
      ]
     },
     "execution_count": 67,
     "metadata": {},
     "output_type": "execute_result"
    }
   ],
   "source": [
    "# identity matrix: np.eye()\n",
    "# number of rows is same as number of columns\n",
    "# diagonal row of 1s\n",
    "\n",
    "id_matrix = np.eye(7)\n",
    "\n",
    "id_matrix"
   ]
  },
  {
   "cell_type": "markdown",
   "metadata": {},
   "source": [
    "## creating arrays from scratch: randoms"
   ]
  },
  {
   "cell_type": "markdown",
   "metadata": {},
   "source": [
    "#### * there are LOTS of random methods in numpy\n",
    "#### * start with np.random. then hit 'tab' to see a list of all of them\n",
    "#### * 1 argument == 1d array, 2 arguments == 2d array\n",
    "#### * randoms DON'T take tuples--just 2 integers\n",
    "#### * here are some frequently used ones\n",
    "\n"
   ]
  },
  {
   "cell_type": "code",
   "execution_count": 70,
   "metadata": {},
   "outputs": [
    {
     "name": "stdout",
     "output_type": "stream",
     "text": [
      "[0.94456301 0.30510113 0.17811534 0.17197034 0.80603649 0.80265709\n",
      " 0.12103068]\n",
      "\n",
      "\n",
      "[[0.70895213 0.4903918  0.31181774 0.33148979 0.74100501]\n",
      " [0.47844446 0.94199231 0.24818785 0.57819438 0.52757378]\n",
      " [0.29138369 0.29895515 0.26401993 0.10577242 0.81001331]\n",
      " [0.08247655 0.1210241  0.45727844 0.74658628 0.62174316]\n",
      " [0.59918927 0.88710625 0.30208485 0.4453576  0.64738168]]\n"
     ]
    }
   ],
   "source": [
    "# np.random.rand \n",
    "# returns 1d array with 1 arg, 2d array with 2 args \n",
    "# uniform distribution from ZERO to ONE, whatever number of points you specify\n",
    "# DOESN'T take a tuple for 2d array--just 2 integers\n",
    "\n",
    "random_arr_1d = np.random.rand(7)\n",
    "random_arr_2d = np.random.rand(5,5)\n",
    "\n",
    "print(random_arr_1d)\n",
    "print('\\n')\n",
    "print(random_arr_2d)"
   ]
  },
  {
   "cell_type": "code",
   "execution_count": 74,
   "metadata": {},
   "outputs": [
    {
     "name": "stdout",
     "output_type": "stream",
     "text": [
      "[-0.14470199  0.4670417  -1.34091762  2.30418039 -0.12229155]\n",
      "\n",
      "\n",
      "[[ 0.64118933 -0.19713004 -0.7985031   0.63306899 -0.63221859]\n",
      " [ 1.60671126  0.69738545  0.89147712  0.77636915 -0.27021805]\n",
      " [-0.56408754 -1.20593048 -0.31523236  0.10806058 -0.31969535]\n",
      " [-0.56199858  0.62341029  0.11301159  0.92276416 -0.21749987]\n",
      " [ 0.24469593 -1.81712626 -0.13364505 -0.59619936  0.36517846]]\n"
     ]
    }
   ],
   "source": [
    "# for numbers from normal/gaussian distribution (instead of normal, as above):\n",
    "# np.random.randn\n",
    "\n",
    "gauss_random_1d = np.random.randn(5)\n",
    "gauss_random_2d = np.random.randn(5,5)\n",
    "\n",
    "print(gauss_random_1d)\n",
    "print('\\n')\n",
    "print(gauss_random_2d)"
   ]
  },
  {
   "cell_type": "code",
   "execution_count": 78,
   "metadata": {},
   "outputs": [
    {
     "name": "stdout",
     "output_type": "stream",
     "text": [
      "7\n",
      "[ 3  7 12 15  9  0 20  6 46  9  6 44 42 20]\n"
     ]
    }
   ],
   "source": [
    "# return random INTEGERS from low to high number\n",
    "# np.random.randint()\n",
    "# args: low, high--not inclusive!, number-of-points\n",
    "# default number of points returned is 1\n",
    "\n",
    "single_random_int = np.random.randint(0,50)\n",
    "\n",
    "# 50 has no chance of being selected because the high end is exclusive\n",
    "lots_of_random_ints = np.random.randint(0,50,14)\n",
    "\n",
    "print(single_random_int)\n",
    "print(lots_of_random_ints)"
   ]
  },
  {
   "cell_type": "markdown",
   "metadata": {},
   "source": [
    "## changing the shape of arrays\n",
    "\n",
    "#### * to go from 1d array to 2d array: use .reshape() method\n",
    "#### * arguments: number of rows, number of columns\n",
    "#### * IMPORTANT: total size of the 2d array has to be the same as the original 1d array"
   ]
  },
  {
   "cell_type": "code",
   "execution_count": 85,
   "metadata": {},
   "outputs": [
    {
     "name": "stdout",
     "output_type": "stream",
     "text": [
      "[ 0  1  2  3  4  5  6  7  8  9 10 11 12 13 14 15 16 17 18 19 20 21 22 23\n",
      " 24]\n",
      "\n",
      "\n",
      "[[ 0  1  2  3  4]\n",
      " [ 5  6  7  8  9]\n",
      " [10 11 12 13 14]\n",
      " [15 16 17 18 19]\n",
      " [20 21 22 23 24]]\n"
     ]
    }
   ],
   "source": [
    "# create an array with 25 elements\n",
    "# NOTE: this will include the 0 but not the 25\n",
    "# still 25 elements, 0-indexed and ending at 24\n",
    "\n",
    "arr = np.arange(0,25)\n",
    "\n",
    "arr_2d = arr.reshape(5,5)\n",
    "\n",
    "print(arr)\n",
    "print('\\n')\n",
    "print(arr_2d)"
   ]
  },
  {
   "cell_type": "code",
   "execution_count": 88,
   "metadata": {},
   "outputs": [
    {
     "ename": "ValueError",
     "evalue": "cannot reshape array of size 25 into shape (5,7)",
     "output_type": "error",
     "traceback": [
      "\u001b[0;31m---------------------------------------------------------------------------\u001b[0m",
      "\u001b[0;31mValueError\u001b[0m                                Traceback (most recent call last)",
      "\u001b[0;32m<ipython-input-88-6bba9dc04a06>\u001b[0m in \u001b[0;36m<module>\u001b[0;34m()\u001b[0m\n\u001b[1;32m      3\u001b[0m \u001b[0;31m# there are 25 points in arr, so it can't fill a 5 x 7 (ie 35-point) matrix\u001b[0m\u001b[0;34m\u001b[0m\u001b[0;34m\u001b[0m\u001b[0m\n\u001b[1;32m      4\u001b[0m \u001b[0;34m\u001b[0m\u001b[0m\n\u001b[0;32m----> 5\u001b[0;31m \u001b[0merror_arr_2d\u001b[0m \u001b[0;34m=\u001b[0m \u001b[0marr\u001b[0m\u001b[0;34m.\u001b[0m\u001b[0mreshape\u001b[0m\u001b[0;34m(\u001b[0m\u001b[0;36m5\u001b[0m\u001b[0;34m,\u001b[0m\u001b[0;36m7\u001b[0m\u001b[0;34m)\u001b[0m\u001b[0;34m\u001b[0m\u001b[0m\n\u001b[0m",
      "\u001b[0;31mValueError\u001b[0m: cannot reshape array of size 25 into shape (5,7)"
     ]
    }
   ],
   "source": [
    "# more on using .reshape():\n",
    "# total number of points has to match! or else Error Town\n",
    "# there are 25 points in arr, so it can't fill a 5 x 7 (ie 35-point) matrix\n",
    "\n",
    "error_arr_2d = arr.reshape(5,7)"
   ]
  },
  {
   "cell_type": "code",
   "execution_count": 92,
   "metadata": {},
   "outputs": [
    {
     "name": "stdout",
     "output_type": "stream",
     "text": [
      "[ 0  1  2  3  4  5  6  7  8  9 10 11 12 13 14 15 16 17 18 19]\n",
      "\n",
      "\n",
      "[[ 0  1  2  3  4  5  6  7  8  9]\n",
      " [10 11 12 13 14 15 16 17 18 19]]\n",
      "\n",
      "\n",
      "[[ 0  1  2  3  4]\n",
      " [ 5  6  7  8  9]\n",
      " [10 11 12 13 14]\n",
      " [15 16 17 18 19]]\n"
     ]
    }
   ],
   "source": [
    "# how to check if it'll work:\n",
    "# multiply number of rows times number of columns, compare to the original 1d array\n",
    "\n",
    "arr = np.arange(0,20)\n",
    "\n",
    "arr_2d = arr.reshape(2,10)\n",
    "\n",
    "another_2d_version = arr.reshape(4,5)\n",
    "\n",
    "print(arr)\n",
    "print('\\n')\n",
    "print(arr_2d)\n",
    "print('\\n')\n",
    "print(another_2d_version)"
   ]
  },
  {
   "cell_type": "code",
   "execution_count": null,
   "metadata": {},
   "outputs": [],
   "source": []
  }
 ],
 "metadata": {
  "kernelspec": {
   "display_name": "Python 3",
   "language": "python",
   "name": "python3"
  },
  "language_info": {
   "codemirror_mode": {
    "name": "ipython",
    "version": 3
   },
   "file_extension": ".py",
   "mimetype": "text/x-python",
   "name": "python",
   "nbconvert_exporter": "python",
   "pygments_lexer": "ipython3",
   "version": "3.6.5"
  }
 },
 "nbformat": 4,
 "nbformat_minor": 2
}

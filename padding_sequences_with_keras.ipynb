{
 "cells": [
  {
   "cell_type": "markdown",
   "metadata": {},
   "source": [
    "# padding for sequences of variable length\n",
    "\n",
    "because of the input requirements of neural nets, deep learning libraries expect a fixed-length vectorization of data. NN models involve a many matrix operations, and performing them efficiently depends on inputs that are all the same length.\n",
    "\n",
    "this can pose a problem for NLP purposes: words and phrases can be variable lengths.\n",
    "\n",
    "a solution is to \"pad\" the sequences so that they are the same length, but their value is unchanged.\n",
    "\n",
    "keras offers a convenient way to pad variable length sequences with empty values so they are ready for a deep learning model.\n",
    "\n",
    "### pre-sequence padding vs post-sequence padding\n",
    "\n",
    "the keras default is to add null values to the beginning of the sequence; this is referred to as pre-sequence padding. post sequence padding is also possible by setting a parameter (padding) to \"post\". \n",
    "\n",
    "the decision of whether to use pre- or post-sequence padding depends on the problem being modeled.\n",
    "\n",
    "##### for more information about keras pre-processing:\n",
    "\n",
    "https://keras.io/preprocessing/sequence/"
   ]
  },
  {
   "cell_type": "code",
   "execution_count": null,
   "metadata": {},
   "outputs": [],
   "source": []
  }
 ],
 "metadata": {
  "kernelspec": {
   "display_name": "Python 3",
   "language": "python",
   "name": "python3"
  },
  "language_info": {
   "codemirror_mode": {
    "name": "ipython",
    "version": 3
   },
   "file_extension": ".py",
   "mimetype": "text/x-python",
   "name": "python",
   "nbconvert_exporter": "python",
   "pygments_lexer": "ipython3",
   "version": "3.5.2"
  }
 },
 "nbformat": 4,
 "nbformat_minor": 2
}

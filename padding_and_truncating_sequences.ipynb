{
 "cells": [
  {
   "cell_type": "markdown",
   "metadata": {},
   "source": [
    "# padding for sequences of variable length\n",
    "\n",
    "because of the input requirements of neural nets, deep learning libraries expect a fixed-length vectorization of data. NN models involve a many matrix operations, and performing them efficiently depends on inputs that are all the same length.\n",
    "\n",
    "this can pose a problem for NLP purposes: words and phrases can be variable lengths.\n",
    "\n",
    "a solution is to \"pad\" the sequences so that they are the same length, but their value is unchanged.\n",
    "\n",
    "keras offers a convenient way to pad variable length sequences with empty values so they are ready for a deep learning model.\n",
    "\n",
    "### pre-sequence padding vs post-sequence padding\n",
    "\n",
    "the keras default is to add null values to the beginning of the sequence; this is referred to as pre-sequence padding. post sequence padding is also possible by setting a parameter (padding) to \"post\". \n",
    "\n",
    "the decision of whether to use pre- or post-sequence padding depends on the problem being modeled.\n",
    "\n",
    "##### for more information about keras pre-processing:\n",
    "\n",
    "https://keras.io/preprocessing/sequence/"
   ]
  },
  {
   "cell_type": "code",
   "execution_count": 1,
   "metadata": {},
   "outputs": [
    {
     "name": "stderr",
     "output_type": "stream",
     "text": [
      "Using TensorFlow backend.\n"
     ]
    }
   ],
   "source": [
    "from keras.preprocessing.sequence import pad_sequences"
   ]
  },
  {
   "cell_type": "markdown",
   "metadata": {},
   "source": [
    "let's create some data. we'll make several sequences of different lengths."
   ]
  },
  {
   "cell_type": "code",
   "execution_count": 4,
   "metadata": {},
   "outputs": [
    {
     "name": "stdout",
     "output_type": "stream",
     "text": [
      "[[2, 4, 6, 8], [2, 4, 6], [2, 4]]\n"
     ]
    }
   ],
   "source": [
    "seq = [\n",
    "    [2, 4, 6, 8],\n",
    "    [2, 4, 6],\n",
    "    [2, 4]]\n",
    "\n",
    "print(seq)"
   ]
  },
  {
   "cell_type": "markdown",
   "metadata": {},
   "source": [
    "### pre-sequence padding\n",
    "\n",
    "(the keras default)"
   ]
  },
  {
   "cell_type": "code",
   "execution_count": 6,
   "metadata": {},
   "outputs": [
    {
     "name": "stdout",
     "output_type": "stream",
     "text": [
      "[[2 4 6 8]\n",
      " [0 2 4 6]\n",
      " [0 0 2 4]]\n"
     ]
    }
   ],
   "source": [
    "# padding\n",
    "\n",
    "pre_seq_padded = pad_sequences(seq)\n",
    "\n",
    "# test\n",
    "\n",
    "print(pre_seq_padded)"
   ]
  },
  {
   "cell_type": "markdown",
   "metadata": {},
   "source": [
    "### post-sequence padding\n",
    "\n",
    "change the pad_sequence function's 'padding' parameter to equal 'post'"
   ]
  },
  {
   "cell_type": "code",
   "execution_count": 7,
   "metadata": {},
   "outputs": [
    {
     "name": "stdout",
     "output_type": "stream",
     "text": [
      "[[2, 4, 6, 8], [2, 4, 6], [2, 4]]\n"
     ]
    }
   ],
   "source": [
    "# back to the original set of sequences\n",
    "\n",
    "print(seq)"
   ]
  },
  {
   "cell_type": "code",
   "execution_count": 8,
   "metadata": {},
   "outputs": [
    {
     "name": "stdout",
     "output_type": "stream",
     "text": [
      "[[2 4 6 8]\n",
      " [2 4 6 0]\n",
      " [2 4 0 0]]\n"
     ]
    }
   ],
   "source": [
    "# set padding parameter to 'post'\n",
    "\n",
    "post_seq_padded = pad_sequences(seq, padding='post')\n",
    "\n",
    "# test\n",
    "\n",
    "print(post_seq_padded)"
   ]
  },
  {
   "cell_type": "code",
   "execution_count": null,
   "metadata": {},
   "outputs": [],
   "source": []
  }
 ],
 "metadata": {
  "kernelspec": {
   "display_name": "Python 3",
   "language": "python",
   "name": "python3"
  },
  "language_info": {
   "codemirror_mode": {
    "name": "ipython",
    "version": 3
   },
   "file_extension": ".py",
   "mimetype": "text/x-python",
   "name": "python",
   "nbconvert_exporter": "python",
   "pygments_lexer": "ipython3",
   "version": "3.5.3"
  }
 },
 "nbformat": 4,
 "nbformat_minor": 2
}

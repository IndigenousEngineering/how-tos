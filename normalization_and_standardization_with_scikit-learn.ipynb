{
 "cells": [
  {
   "cell_type": "markdown",
   "metadata": {},
   "source": [
    "# normalizing & standardizing data"
   ]
  },
  {
   "cell_type": "markdown",
   "metadata": {},
   "source": [
    "### normalization: \n",
    "\n",
    "scales all data to values between 0 and 1.\n",
    "\n",
    "you must know or be able to estimate the expected min and max values for your data.\n",
    "\n",
    "### standardization:\n",
    "\n",
    "rescales the data distribution so that the mean of all observations is 0, and the standard deviation is 1.\n",
    "\n",
    "you must know or be able to estimate your mean and standard dev.\n",
    "\n",
    "your data must fit a normal (gaussian) distribution.\n"
   ]
  },
  {
   "cell_type": "markdown",
   "metadata": {},
   "source": [
    "## normalization\n",
    "\n",
    "scikit-learn's MinMaxScaler object fits the data in order to estimate the max and min, then scales the data when we call .transform()\n",
    "\n",
    "note: the MinMaxScaler object expects data to be presented as a matrix of size (rows, columns), so data is reshaped using .reshape(rows, columns)"
   ]
  },
  {
   "cell_type": "code",
   "execution_count": 2,
   "metadata": {},
   "outputs": [],
   "source": [
    "# imports from standard python data processing libraries, pandas & sklearn\n",
    "\n",
    "from pandas import Series\n",
    "from sklearn.preprocessing import MinMaxScaler"
   ]
  },
  {
   "cell_type": "code",
   "execution_count": null,
   "metadata": {},
   "outputs": [],
   "source": []
  }
 ],
 "metadata": {
  "kernelspec": {
   "display_name": "Python 3",
   "language": "python",
   "name": "python3"
  },
  "language_info": {
   "codemirror_mode": {
    "name": "ipython",
    "version": 3
   },
   "file_extension": ".py",
   "mimetype": "text/x-python",
   "name": "python",
   "nbconvert_exporter": "python",
   "pygments_lexer": "ipython3",
   "version": "3.5.2"
  }
 },
 "nbformat": 4,
 "nbformat_minor": 2
}

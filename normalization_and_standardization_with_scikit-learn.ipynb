{
 "cells": [
  {
   "cell_type": "markdown",
   "metadata": {},
   "source": [
    "# normalizing & standardizing data"
   ]
  },
  {
   "cell_type": "markdown",
   "metadata": {},
   "source": [
    "### normalization: \n",
    "\n",
    "scales all data to values between 0 and 1.\n",
    "\n",
    "you must know or be able to estimate the expected min and max values for your data.\n",
    "\n",
    "### standardization:\n",
    "\n",
    "rescales the data distribution so that the mean of all observations is 0, and the standard deviation is 1.\n",
    "\n",
    "you must know or be able to estimate your mean and standard dev.\n",
    "\n",
    "your data must fit a gaussian distribution.\n"
   ]
  },
  {
   "cell_type": "markdown",
   "metadata": {},
   "source": [
    "## normalization\n",
    "\n",
    "scikit-learn's MinMaxScaler object fits the data in order to estimate the max and min, then scales the data when we call .transform()\n",
    "\n",
    "note: the MinMaxScaler object expects data to be presented as a matrix of size (rows, columns), so even if you use a numpy array (as i do here), make sure your data is reshaped into a matrix using .reshape(rows, columns) before attempting to fit the scaler."
   ]
  },
  {
   "cell_type": "code",
   "execution_count": 37,
   "metadata": {},
   "outputs": [],
   "source": [
    "# imports from standard python data processing libraries, numpy, pandas & sklearn\n",
    "\n",
    "import numpy as np\n",
    "from pandas import Series\n",
    "from sklearn.preprocessing import MinMaxScaler"
   ]
  },
  {
   "cell_type": "code",
   "execution_count": 38,
   "metadata": {},
   "outputs": [
    {
     "name": "stdout",
     "output_type": "stream",
     "text": [
      "[0.71322554 0.32331002 0.14940009 0.27190708 0.76416523 0.05511729\n",
      " 0.54936922 0.12393065 0.861575   0.00812809]\n"
     ]
    }
   ],
   "source": [
    "# create some data\n",
    "# np.random.rand creates a specified number of data points with a normal distribution\n",
    "# between 0 and 1\n",
    "\n",
    "data = np.random.rand(10)\n",
    "\n",
    "print(data)\n"
   ]
  },
  {
   "cell_type": "code",
   "execution_count": 39,
   "metadata": {},
   "outputs": [
    {
     "name": "stdout",
     "output_type": "stream",
     "text": [
      "0    0.713226\n",
      "1    0.323310\n",
      "2    0.149400\n",
      "3    0.271907\n",
      "4    0.764165\n",
      "5    0.055117\n",
      "6    0.549369\n",
      "7    0.123931\n",
      "8    0.861575\n",
      "9    0.008128\n",
      "dtype: float64\n"
     ]
    }
   ],
   "source": [
    "# load as a pandas Series\n",
    "# pandas series must be 1d\n",
    "\n",
    "data_series = Series(data)\n",
    "\n",
    "print(data_series)"
   ]
  },
  {
   "cell_type": "code",
   "execution_count": 40,
   "metadata": {},
   "outputs": [],
   "source": [
    "# prepare the data for the MinMaxScaler to fit\n",
    "# get values, then reshape\n",
    "\n",
    "series_values = data_series.values\n",
    "series_values = series_values.reshape(len(series_values), 1)"
   ]
  },
  {
   "cell_type": "code",
   "execution_count": 41,
   "metadata": {},
   "outputs": [],
   "source": [
    "# instantiate then fit scaler\n",
    "\n",
    "scaler = MinMaxScaler(feature_range=(0,1))\n",
    "\n",
    "scaler = scaler.fit(series_values)"
   ]
  },
  {
   "cell_type": "code",
   "execution_count": 42,
   "metadata": {},
   "outputs": [
    {
     "name": "stdout",
     "output_type": "stream",
     "text": [
      "min: 0.008128, max: 0.861575\n"
     ]
    }
   ],
   "source": [
    "# check results: min & max?\n",
    "\n",
    "print('min: %f, max: %f' % (scaler.data_min_, scaler.data_max_))"
   ]
  },
  {
   "cell_type": "code",
   "execution_count": 44,
   "metadata": {},
   "outputs": [
    {
     "name": "stdout",
     "output_type": "stream",
     "text": [
      "[[0.82617611]\n",
      " [0.36930467]\n",
      " [0.16553109]\n",
      " [0.30907486]\n",
      " [0.88586312]\n",
      " [0.05505814]\n",
      " [0.63418254]\n",
      " [0.13568807]\n",
      " [1.        ]\n",
      " [0.        ]]\n"
     ]
    }
   ],
   "source": [
    "# transform: where the actual normalization happens\n",
    "\n",
    "normalized_data = scaler.transform(series_values)\n",
    "\n",
    "print(normalized_data)"
   ]
  },
  {
   "cell_type": "code",
   "execution_count": 45,
   "metadata": {},
   "outputs": [
    {
     "name": "stdout",
     "output_type": "stream",
     "text": [
      "[[0.71322554]\n",
      " [0.32331002]\n",
      " [0.14940009]\n",
      " [0.27190708]\n",
      " [0.76416523]\n",
      " [0.05511729]\n",
      " [0.54936922]\n",
      " [0.12393065]\n",
      " [0.861575  ]\n",
      " [0.00812809]]\n"
     ]
    }
   ],
   "source": [
    "# the process can be reversed: inverse the transform to get the original values back\n",
    "\n",
    "inversed_nrml = scaler.inverse_transform(normalized_data)\n",
    "\n",
    "print(inversed_nrml)"
   ]
  },
  {
   "cell_type": "code",
   "execution_count": null,
   "metadata": {},
   "outputs": [],
   "source": []
  }
 ],
 "metadata": {
  "kernelspec": {
   "display_name": "Python 3",
   "language": "python",
   "name": "python3"
  },
  "language_info": {
   "codemirror_mode": {
    "name": "ipython",
    "version": 3
   },
   "file_extension": ".py",
   "mimetype": "text/x-python",
   "name": "python",
   "nbconvert_exporter": "python",
   "pygments_lexer": "ipython3",
   "version": "3.5.2"
  }
 },
 "nbformat": 4,
 "nbformat_minor": 2
}
